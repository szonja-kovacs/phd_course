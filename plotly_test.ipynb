{
 "cells": [
  {
   "cell_type": "code",
   "execution_count": 74,
   "metadata": {
    "ExecuteTime": {
     "end_time": "2021-04-15T20:33:41.872871Z",
     "start_time": "2021-04-15T20:33:41.788412Z"
    }
   },
   "outputs": [],
   "source": [
    "import pandas as pd\n",
    "\n",
    "import plotly.express as px\n",
    "\n",
    "import plotly.graph_objects as go\n",
    "\n",
    "\n",
    "data = pd.read_csv('data/csv')\n",
    "\n",
    "def convert(x):\n",
    "    year, week = x.split('-')\n",
    "    year = (int(year) - 2020) * 54\n",
    "    return year + int(week)\n",
    "\n",
    "data['week'] = data.year_week.apply(lambda x: convert(x))\n",
    "\n",
    "hun = data[data.country=='Hungary']\n",
    "\n",
    "data_frame = hun, x = 'week', y = 'cumulative_count', color = 'indicator')"
   ]
  },
  {
   "cell_type": "code",
   "execution_count": null,
   "metadata": {
    "ExecuteTime": {
     "end_time": "2021-04-15T20:33:41.872871Z",
     "start_time": "2021-04-15T20:33:41.788412Z"
    }
   },
   "outputs": [],
   "source": [
    "fig = px.line("
   ]
  },
  {
   "cell_type": "code",
   "execution_count": 125,
   "metadata": {
    "ExecuteTime": {
     "end_time": "2021-04-15T20:54:19.784520Z",
     "start_time": "2021-04-15T20:54:19.759167Z"
    }
   },
   "outputs": [
    {
     "data": {
      "text/html": [
       "<div>\n",
       "<style scoped>\n",
       "    .dataframe tbody tr th:only-of-type {\n",
       "        vertical-align: middle;\n",
       "    }\n",
       "\n",
       "    .dataframe tbody tr th {\n",
       "        vertical-align: top;\n",
       "    }\n",
       "\n",
       "    .dataframe thead th {\n",
       "        text-align: right;\n",
       "    }\n",
       "</style>\n",
       "<table border=\"1\" class=\"dataframe\">\n",
       "  <thead>\n",
       "    <tr style=\"text-align: right;\">\n",
       "      <th></th>\n",
       "      <th>country</th>\n",
       "      <th>country_code</th>\n",
       "      <th>continent</th>\n",
       "      <th>population</th>\n",
       "      <th>indicator</th>\n",
       "      <th>weekly_count</th>\n",
       "      <th>year_week</th>\n",
       "      <th>rate_14_day</th>\n",
       "      <th>cumulative_count</th>\n",
       "      <th>source</th>\n",
       "    </tr>\n",
       "  </thead>\n",
       "  <tbody>\n",
       "    <tr>\n",
       "      <th>0</th>\n",
       "      <td>Afghanistan</td>\n",
       "      <td>AFG</td>\n",
       "      <td>Asia</td>\n",
       "      <td>38928341</td>\n",
       "      <td>cases</td>\n",
       "      <td>0</td>\n",
       "      <td>2020-01</td>\n",
       "      <td>NaN</td>\n",
       "      <td>0</td>\n",
       "      <td>Epidemic intelligence, national weekly data</td>\n",
       "    </tr>\n",
       "    <tr>\n",
       "      <th>1</th>\n",
       "      <td>Afghanistan</td>\n",
       "      <td>AFG</td>\n",
       "      <td>Asia</td>\n",
       "      <td>38928341</td>\n",
       "      <td>cases</td>\n",
       "      <td>0</td>\n",
       "      <td>2020-02</td>\n",
       "      <td>0.0</td>\n",
       "      <td>0</td>\n",
       "      <td>Epidemic intelligence, national weekly data</td>\n",
       "    </tr>\n",
       "    <tr>\n",
       "      <th>2</th>\n",
       "      <td>Afghanistan</td>\n",
       "      <td>AFG</td>\n",
       "      <td>Asia</td>\n",
       "      <td>38928341</td>\n",
       "      <td>cases</td>\n",
       "      <td>0</td>\n",
       "      <td>2020-03</td>\n",
       "      <td>0.0</td>\n",
       "      <td>0</td>\n",
       "      <td>Epidemic intelligence, national weekly data</td>\n",
       "    </tr>\n",
       "    <tr>\n",
       "      <th>3</th>\n",
       "      <td>Afghanistan</td>\n",
       "      <td>AFG</td>\n",
       "      <td>Asia</td>\n",
       "      <td>38928341</td>\n",
       "      <td>cases</td>\n",
       "      <td>0</td>\n",
       "      <td>2020-04</td>\n",
       "      <td>0.0</td>\n",
       "      <td>0</td>\n",
       "      <td>Epidemic intelligence, national weekly data</td>\n",
       "    </tr>\n",
       "    <tr>\n",
       "      <th>4</th>\n",
       "      <td>Afghanistan</td>\n",
       "      <td>AFG</td>\n",
       "      <td>Asia</td>\n",
       "      <td>38928341</td>\n",
       "      <td>cases</td>\n",
       "      <td>0</td>\n",
       "      <td>2020-05</td>\n",
       "      <td>0.0</td>\n",
       "      <td>0</td>\n",
       "      <td>Epidemic intelligence, national weekly data</td>\n",
       "    </tr>\n",
       "  </tbody>\n",
       "</table>\n",
       "</div>"
      ],
      "text/plain": [
       "       country country_code continent  population indicator  weekly_count  \\\n",
       "0  Afghanistan          AFG      Asia    38928341     cases             0   \n",
       "1  Afghanistan          AFG      Asia    38928341     cases             0   \n",
       "2  Afghanistan          AFG      Asia    38928341     cases             0   \n",
       "3  Afghanistan          AFG      Asia    38928341     cases             0   \n",
       "4  Afghanistan          AFG      Asia    38928341     cases             0   \n",
       "\n",
       "  year_week  rate_14_day  cumulative_count  \\\n",
       "0   2020-01          NaN                 0   \n",
       "1   2020-02          0.0                 0   \n",
       "2   2020-03          0.0                 0   \n",
       "3   2020-04          0.0                 0   \n",
       "4   2020-05          0.0                 0   \n",
       "\n",
       "                                        source  \n",
       "0  Epidemic intelligence, national weekly data  \n",
       "1  Epidemic intelligence, national weekly data  \n",
       "2  Epidemic intelligence, national weekly data  \n",
       "3  Epidemic intelligence, national weekly data  \n",
       "4  Epidemic intelligence, national weekly data  "
      ]
     },
     "execution_count": 125,
     "metadata": {},
     "output_type": "execute_result"
    }
   ],
   "source": [
    "data.head()"
   ]
  },
  {
   "cell_type": "code",
   "execution_count": 126,
   "metadata": {
    "ExecuteTime": {
     "end_time": "2021-04-15T20:54:23.590966Z",
     "start_time": "2021-04-15T20:54:23.571668Z"
    }
   },
   "outputs": [
    {
     "data": {
      "text/html": [
       "<div>\n",
       "<style scoped>\n",
       "    .dataframe tbody tr th:only-of-type {\n",
       "        vertical-align: middle;\n",
       "    }\n",
       "\n",
       "    .dataframe tbody tr th {\n",
       "        vertical-align: top;\n",
       "    }\n",
       "\n",
       "    .dataframe thead th {\n",
       "        text-align: right;\n",
       "    }\n",
       "</style>\n",
       "<table border=\"1\" class=\"dataframe\">\n",
       "  <thead>\n",
       "    <tr style=\"text-align: right;\">\n",
       "      <th></th>\n",
       "      <th>country</th>\n",
       "      <th>country_code</th>\n",
       "      <th>continent</th>\n",
       "      <th>population</th>\n",
       "      <th>indicator</th>\n",
       "      <th>weekly_count</th>\n",
       "      <th>year_week</th>\n",
       "      <th>rate_14_day</th>\n",
       "      <th>cumulative_count</th>\n",
       "      <th>source</th>\n",
       "    </tr>\n",
       "  </thead>\n",
       "  <tbody>\n",
       "    <tr>\n",
       "      <th>10994</th>\n",
       "      <td>Hungary</td>\n",
       "      <td>HUN</td>\n",
       "      <td>Europe</td>\n",
       "      <td>9769526</td>\n",
       "      <td>cases</td>\n",
       "      <td>8</td>\n",
       "      <td>2020-10</td>\n",
       "      <td>NaN</td>\n",
       "      <td>8</td>\n",
       "      <td>Epidemic intelligence, national weekly data</td>\n",
       "    </tr>\n",
       "    <tr>\n",
       "      <th>10995</th>\n",
       "      <td>Hungary</td>\n",
       "      <td>HUN</td>\n",
       "      <td>Europe</td>\n",
       "      <td>9769526</td>\n",
       "      <td>cases</td>\n",
       "      <td>31</td>\n",
       "      <td>2020-11</td>\n",
       "      <td>0.399201</td>\n",
       "      <td>39</td>\n",
       "      <td>Epidemic intelligence, national weekly data</td>\n",
       "    </tr>\n",
       "    <tr>\n",
       "      <th>10996</th>\n",
       "      <td>Hungary</td>\n",
       "      <td>HUN</td>\n",
       "      <td>Europe</td>\n",
       "      <td>9769526</td>\n",
       "      <td>cases</td>\n",
       "      <td>128</td>\n",
       "      <td>2020-12</td>\n",
       "      <td>1.627510</td>\n",
       "      <td>167</td>\n",
       "      <td>Epidemic intelligence, national weekly data</td>\n",
       "    </tr>\n",
       "    <tr>\n",
       "      <th>10997</th>\n",
       "      <td>Hungary</td>\n",
       "      <td>HUN</td>\n",
       "      <td>Europe</td>\n",
       "      <td>9769526</td>\n",
       "      <td>cases</td>\n",
       "      <td>280</td>\n",
       "      <td>2020-13</td>\n",
       "      <td>4.176252</td>\n",
       "      <td>447</td>\n",
       "      <td>Epidemic intelligence, national weekly data</td>\n",
       "    </tr>\n",
       "    <tr>\n",
       "      <th>10998</th>\n",
       "      <td>Hungary</td>\n",
       "      <td>HUN</td>\n",
       "      <td>Europe</td>\n",
       "      <td>9769526</td>\n",
       "      <td>cases</td>\n",
       "      <td>297</td>\n",
       "      <td>2020-14</td>\n",
       "      <td>5.906121</td>\n",
       "      <td>744</td>\n",
       "      <td>Epidemic intelligence, national weekly data</td>\n",
       "    </tr>\n",
       "  </tbody>\n",
       "</table>\n",
       "</div>"
      ],
      "text/plain": [
       "       country country_code continent  population indicator  weekly_count  \\\n",
       "10994  Hungary          HUN    Europe     9769526     cases             8   \n",
       "10995  Hungary          HUN    Europe     9769526     cases            31   \n",
       "10996  Hungary          HUN    Europe     9769526     cases           128   \n",
       "10997  Hungary          HUN    Europe     9769526     cases           280   \n",
       "10998  Hungary          HUN    Europe     9769526     cases           297   \n",
       "\n",
       "      year_week  rate_14_day  cumulative_count  \\\n",
       "10994   2020-10          NaN                 8   \n",
       "10995   2020-11     0.399201                39   \n",
       "10996   2020-12     1.627510               167   \n",
       "10997   2020-13     4.176252               447   \n",
       "10998   2020-14     5.906121               744   \n",
       "\n",
       "                                            source  \n",
       "10994  Epidemic intelligence, national weekly data  \n",
       "10995  Epidemic intelligence, national weekly data  \n",
       "10996  Epidemic intelligence, national weekly data  \n",
       "10997  Epidemic intelligence, national weekly data  \n",
       "10998  Epidemic intelligence, national weekly data  "
      ]
     },
     "execution_count": 126,
     "metadata": {},
     "output_type": "execute_result"
    }
   ],
   "source": [
    "hun.head()"
   ]
  },
  {
   "cell_type": "code",
   "execution_count": 130,
   "metadata": {
    "ExecuteTime": {
     "end_time": "2021-04-15T20:55:19.659514Z",
     "start_time": "2021-04-15T20:55:18.941638Z"
    }
   },
   "outputs": [
    {
     "data": {
      "application/vnd.plotly.v1+json": {
       "config": {
        "plotlyServerURL": "https://plot.ly"
       },
       "data": [
        {
         "hovertemplate": "cumulative_count=%{y}<br>year_week=%{x}<extra></extra>",
         "legendgroup": "8",
         "line": {
          "color": "#636efa",
          "dash": "solid"
         },
         "mode": "lines",
         "name": "8",
         "orientation": "v",
         "showlegend": true,
         "type": "scatter",
         "x": [
          "2020-10"
         ],
         "xaxis": "x",
         "y": [
          8
         ],
         "yaxis": "y"
        },
        {
         "hovertemplate": "cumulative_count=%{y}<br>year_week=%{x}<extra></extra>",
         "legendgroup": "39",
         "line": {
          "color": "#EF553B",
          "dash": "solid"
         },
         "mode": "lines",
         "name": "39",
         "orientation": "v",
         "showlegend": true,
         "type": "scatter",
         "x": [
          "2020-11"
         ],
         "xaxis": "x",
         "y": [
          39
         ],
         "yaxis": "y"
        },
        {
         "hovertemplate": "cumulative_count=%{y}<br>year_week=%{x}<extra></extra>",
         "legendgroup": "167",
         "line": {
          "color": "#00cc96",
          "dash": "solid"
         },
         "mode": "lines",
         "name": "167",
         "orientation": "v",
         "showlegend": true,
         "type": "scatter",
         "x": [
          "2020-12"
         ],
         "xaxis": "x",
         "y": [
          167
         ],
         "yaxis": "y"
        },
        {
         "hovertemplate": "cumulative_count=%{y}<br>year_week=%{x}<extra></extra>",
         "legendgroup": "447",
         "line": {
          "color": "#ab63fa",
          "dash": "solid"
         },
         "mode": "lines",
         "name": "447",
         "orientation": "v",
         "showlegend": true,
         "type": "scatter",
         "x": [
          "2020-13"
         ],
         "xaxis": "x",
         "y": [
          447
         ],
         "yaxis": "y"
        },
        {
         "hovertemplate": "cumulative_count=%{y}<br>year_week=%{x}<extra></extra>",
         "legendgroup": "744",
         "line": {
          "color": "#FFA15A",
          "dash": "solid"
         },
         "mode": "lines",
         "name": "744",
         "orientation": "v",
         "showlegend": true,
         "type": "scatter",
         "x": [
          "2020-14"
         ],
         "xaxis": "x",
         "y": [
          744
         ],
         "yaxis": "y"
        },
        {
         "hovertemplate": "cumulative_count=%{y}<br>year_week=%{x}<extra></extra>",
         "legendgroup": "1458",
         "line": {
          "color": "#19d3f3",
          "dash": "solid"
         },
         "mode": "lines",
         "name": "1458",
         "orientation": "v",
         "showlegend": true,
         "type": "scatter",
         "x": [
          "2020-15"
         ],
         "xaxis": "x",
         "y": [
          1458
         ],
         "yaxis": "y"
        },
        {
         "hovertemplate": "cumulative_count=%{y}<br>year_week=%{x}<extra></extra>",
         "legendgroup": "1984",
         "line": {
          "color": "#FF6692",
          "dash": "solid"
         },
         "mode": "lines",
         "name": "1984",
         "orientation": "v",
         "showlegend": true,
         "type": "scatter",
         "x": [
          "2020-16"
         ],
         "xaxis": "x",
         "y": [
          1984
         ],
         "yaxis": "y"
        },
        {
         "hovertemplate": "cumulative_count=%{y}<br>year_week=%{x}<extra></extra>",
         "legendgroup": "2583",
         "line": {
          "color": "#B6E880",
          "dash": "solid"
         },
         "mode": "lines",
         "name": "2583",
         "orientation": "v",
         "showlegend": true,
         "type": "scatter",
         "x": [
          "2020-17"
         ],
         "xaxis": "x",
         "y": [
          2583
         ],
         "yaxis": "y"
        },
        {
         "hovertemplate": "cumulative_count=%{y}<br>year_week=%{x}<extra></extra>",
         "legendgroup": "3035",
         "line": {
          "color": "#FF97FF",
          "dash": "solid"
         },
         "mode": "lines",
         "name": "3035",
         "orientation": "v",
         "showlegend": true,
         "type": "scatter",
         "x": [
          "2020-18"
         ],
         "xaxis": "x",
         "y": [
          3035
         ],
         "yaxis": "y"
        },
        {
         "hovertemplate": "cumulative_count=%{y}<br>year_week=%{x}<extra></extra>",
         "legendgroup": "3284",
         "line": {
          "color": "#FECB52",
          "dash": "solid"
         },
         "mode": "lines",
         "name": "3284",
         "orientation": "v",
         "showlegend": true,
         "type": "scatter",
         "x": [
          "2020-19"
         ],
         "xaxis": "x",
         "y": [
          3284
         ],
         "yaxis": "y"
        },
        {
         "hovertemplate": "cumulative_count=%{y}<br>year_week=%{x}<extra></extra>",
         "legendgroup": "3535",
         "line": {
          "color": "#636efa",
          "dash": "solid"
         },
         "mode": "lines",
         "name": "3535",
         "orientation": "v",
         "showlegend": true,
         "type": "scatter",
         "x": [
          "2020-20"
         ],
         "xaxis": "x",
         "y": [
          3535
         ],
         "yaxis": "y"
        },
        {
         "hovertemplate": "cumulative_count=%{y}<br>year_week=%{x}<extra></extra>",
         "legendgroup": "3756",
         "line": {
          "color": "#EF553B",
          "dash": "solid"
         },
         "mode": "lines",
         "name": "3756",
         "orientation": "v",
         "showlegend": true,
         "type": "scatter",
         "x": [
          "2020-21"
         ],
         "xaxis": "x",
         "y": [
          3756
         ],
         "yaxis": "y"
        },
        {
         "hovertemplate": "cumulative_count=%{y}<br>year_week=%{x}<extra></extra>",
         "legendgroup": "3876",
         "line": {
          "color": "#00cc96",
          "dash": "solid"
         },
         "mode": "lines",
         "name": "3876",
         "orientation": "v",
         "showlegend": true,
         "type": "scatter",
         "x": [
          "2020-22"
         ],
         "xaxis": "x",
         "y": [
          3876
         ],
         "yaxis": "y"
        },
        {
         "hovertemplate": "cumulative_count=%{y}<br>year_week=%{x}<extra></extra>",
         "legendgroup": "3970",
         "line": {
          "color": "#ab63fa",
          "dash": "solid"
         },
         "mode": "lines",
         "name": "3970",
         "orientation": "v",
         "showlegend": true,
         "type": "scatter",
         "x": [
          "2020-23"
         ],
         "xaxis": "x",
         "y": [
          3970
         ],
         "yaxis": "y"
        },
        {
         "hovertemplate": "cumulative_count=%{y}<br>year_week=%{x}<extra></extra>",
         "legendgroup": "4076",
         "line": {
          "color": "#FFA15A",
          "dash": "solid"
         },
         "mode": "lines",
         "name": "4076",
         "orientation": "v",
         "showlegend": true,
         "type": "scatter",
         "x": [
          "2020-24"
         ],
         "xaxis": "x",
         "y": [
          4076
         ],
         "yaxis": "y"
        },
        {
         "hovertemplate": "cumulative_count=%{y}<br>year_week=%{x}<extra></extra>",
         "legendgroup": "4102",
         "line": {
          "color": "#19d3f3",
          "dash": "solid"
         },
         "mode": "lines",
         "name": "4102",
         "orientation": "v",
         "showlegend": true,
         "type": "scatter",
         "x": [
          "2020-25"
         ],
         "xaxis": "x",
         "y": [
          4102
         ],
         "yaxis": "y"
        },
        {
         "hovertemplate": "cumulative_count=%{y}<br>year_week=%{x}<extra></extra>",
         "legendgroup": "4142",
         "line": {
          "color": "#FF6692",
          "dash": "solid"
         },
         "mode": "lines",
         "name": "4142",
         "orientation": "v",
         "showlegend": true,
         "type": "scatter",
         "x": [
          "2020-26"
         ],
         "xaxis": "x",
         "y": [
          4142
         ],
         "yaxis": "y"
        },
        {
         "hovertemplate": "cumulative_count=%{y}<br>year_week=%{x}<extra></extra>",
         "legendgroup": "4183",
         "line": {
          "color": "#B6E880",
          "dash": "solid"
         },
         "mode": "lines",
         "name": "4183",
         "orientation": "v",
         "showlegend": true,
         "type": "scatter",
         "x": [
          "2020-27"
         ],
         "xaxis": "x",
         "y": [
          4183
         ],
         "yaxis": "y"
        },
        {
         "hovertemplate": "cumulative_count=%{y}<br>year_week=%{x}<extra></extra>",
         "legendgroup": "4234",
         "line": {
          "color": "#FF97FF",
          "dash": "solid"
         },
         "mode": "lines",
         "name": "4234",
         "orientation": "v",
         "showlegend": true,
         "type": "scatter",
         "x": [
          "2020-28"
         ],
         "xaxis": "x",
         "y": [
          4234
         ],
         "yaxis": "y"
        },
        {
         "hovertemplate": "cumulative_count=%{y}<br>year_week=%{x}<extra></extra>",
         "legendgroup": "4333",
         "line": {
          "color": "#FECB52",
          "dash": "solid"
         },
         "mode": "lines",
         "name": "4333",
         "orientation": "v",
         "showlegend": true,
         "type": "scatter",
         "x": [
          "2020-29"
         ],
         "xaxis": "x",
         "y": [
          4333
         ],
         "yaxis": "y"
        },
        {
         "hovertemplate": "cumulative_count=%{y}<br>year_week=%{x}<extra></extra>",
         "legendgroup": "4448",
         "line": {
          "color": "#636efa",
          "dash": "solid"
         },
         "mode": "lines",
         "name": "4448",
         "orientation": "v",
         "showlegend": true,
         "type": "scatter",
         "x": [
          "2020-30"
         ],
         "xaxis": "x",
         "y": [
          4448
         ],
         "yaxis": "y"
        },
        {
         "hovertemplate": "cumulative_count=%{y}<br>year_week=%{x}<extra></extra>",
         "legendgroup": "4535",
         "line": {
          "color": "#EF553B",
          "dash": "solid"
         },
         "mode": "lines",
         "name": "4535",
         "orientation": "v",
         "showlegend": true,
         "type": "scatter",
         "x": [
          "2020-31"
         ],
         "xaxis": "x",
         "y": [
          4535
         ],
         "yaxis": "y"
        },
        {
         "hovertemplate": "cumulative_count=%{y}<br>year_week=%{x}<extra></extra>",
         "legendgroup": "4696",
         "line": {
          "color": "#00cc96",
          "dash": "solid"
         },
         "mode": "lines",
         "name": "4696",
         "orientation": "v",
         "showlegend": true,
         "type": "scatter",
         "x": [
          "2020-32"
         ],
         "xaxis": "x",
         "y": [
          4696
         ],
         "yaxis": "y"
        },
        {
         "hovertemplate": "cumulative_count=%{y}<br>year_week=%{x}<extra></extra>",
         "legendgroup": "4916",
         "line": {
          "color": "#ab63fa",
          "dash": "solid"
         },
         "mode": "lines",
         "name": "4916",
         "orientation": "v",
         "showlegend": true,
         "type": "scatter",
         "x": [
          "2020-33"
         ],
         "xaxis": "x",
         "y": [
          4916
         ],
         "yaxis": "y"
        },
        {
         "hovertemplate": "cumulative_count=%{y}<br>year_week=%{x}<extra></extra>",
         "legendgroup": "5155",
         "line": {
          "color": "#FFA15A",
          "dash": "solid"
         },
         "mode": "lines",
         "name": "5155",
         "orientation": "v",
         "showlegend": true,
         "type": "scatter",
         "x": [
          "2020-34"
         ],
         "xaxis": "x",
         "y": [
          5155
         ],
         "yaxis": "y"
        },
        {
         "hovertemplate": "cumulative_count=%{y}<br>year_week=%{x}<extra></extra>",
         "legendgroup": "5961",
         "line": {
          "color": "#19d3f3",
          "dash": "solid"
         },
         "mode": "lines",
         "name": "5961",
         "orientation": "v",
         "showlegend": true,
         "type": "scatter",
         "x": [
          "2020-35"
         ],
         "xaxis": "x",
         "y": [
          5961
         ],
         "yaxis": "y"
        },
        {
         "hovertemplate": "cumulative_count=%{y}<br>year_week=%{x}<extra></extra>",
         "legendgroup": "8387",
         "line": {
          "color": "#FF6692",
          "dash": "solid"
         },
         "mode": "lines",
         "name": "8387",
         "orientation": "v",
         "showlegend": true,
         "type": "scatter",
         "x": [
          "2020-36"
         ],
         "xaxis": "x",
         "y": [
          8387
         ],
         "yaxis": "y"
        },
        {
         "hovertemplate": "cumulative_count=%{y}<br>year_week=%{x}<extra></extra>",
         "legendgroup": "12309",
         "line": {
          "color": "#B6E880",
          "dash": "solid"
         },
         "mode": "lines",
         "name": "12309",
         "orientation": "v",
         "showlegend": true,
         "type": "scatter",
         "x": [
          "2020-37"
         ],
         "xaxis": "x",
         "y": [
          12309
         ],
         "yaxis": "y"
        },
        {
         "hovertemplate": "cumulative_count=%{y}<br>year_week=%{x}<extra></extra>",
         "legendgroup": "18866",
         "line": {
          "color": "#FF97FF",
          "dash": "solid"
         },
         "mode": "lines",
         "name": "18866",
         "orientation": "v",
         "showlegend": true,
         "type": "scatter",
         "x": [
          "2020-38"
         ],
         "xaxis": "x",
         "y": [
          18866
         ],
         "yaxis": "y"
        },
        {
         "hovertemplate": "cumulative_count=%{y}<br>year_week=%{x}<extra></extra>",
         "legendgroup": "24716",
         "line": {
          "color": "#FECB52",
          "dash": "solid"
         },
         "mode": "lines",
         "name": "24716",
         "orientation": "v",
         "showlegend": true,
         "type": "scatter",
         "x": [
          "2020-39"
         ],
         "xaxis": "x",
         "y": [
          24716
         ],
         "yaxis": "y"
        },
        {
         "hovertemplate": "cumulative_count=%{y}<br>year_week=%{x}<extra></extra>",
         "legendgroup": "31480",
         "line": {
          "color": "#636efa",
          "dash": "solid"
         },
         "mode": "lines",
         "name": "31480",
         "orientation": "v",
         "showlegend": true,
         "type": "scatter",
         "x": [
          "2020-40"
         ],
         "xaxis": "x",
         "y": [
          31480
         ],
         "yaxis": "y"
        },
        {
         "hovertemplate": "cumulative_count=%{y}<br>year_week=%{x}<extra></extra>",
         "legendgroup": "38577",
         "line": {
          "color": "#EF553B",
          "dash": "solid"
         },
         "mode": "lines",
         "name": "38577",
         "orientation": "v",
         "showlegend": true,
         "type": "scatter",
         "x": [
          "2020-41"
         ],
         "xaxis": "x",
         "y": [
          38577
         ],
         "yaxis": "y"
        },
        {
         "hovertemplate": "cumulative_count=%{y}<br>year_week=%{x}<extra></extra>",
         "legendgroup": "47768",
         "line": {
          "color": "#00cc96",
          "dash": "solid"
         },
         "mode": "lines",
         "name": "47768",
         "orientation": "v",
         "showlegend": true,
         "type": "scatter",
         "x": [
          "2020-42"
         ],
         "xaxis": "x",
         "y": [
          47768
         ],
         "yaxis": "y"
        },
        {
         "hovertemplate": "cumulative_count=%{y}<br>year_week=%{x}<extra></extra>",
         "legendgroup": "61563",
         "line": {
          "color": "#ab63fa",
          "dash": "solid"
         },
         "mode": "lines",
         "name": "61563",
         "orientation": "v",
         "showlegend": true,
         "type": "scatter",
         "x": [
          "2020-43"
         ],
         "xaxis": "x",
         "y": [
          61563
         ],
         "yaxis": "y"
        },
        {
         "hovertemplate": "cumulative_count=%{y}<br>year_week=%{x}<extra></extra>",
         "legendgroup": "82780",
         "line": {
          "color": "#FFA15A",
          "dash": "solid"
         },
         "mode": "lines",
         "name": "82780",
         "orientation": "v",
         "showlegend": true,
         "type": "scatter",
         "x": [
          "2020-44"
         ],
         "xaxis": "x",
         "y": [
          82780
         ],
         "yaxis": "y"
        },
        {
         "hovertemplate": "cumulative_count=%{y}<br>year_week=%{x}<extra></extra>",
         "legendgroup": "114778",
         "line": {
          "color": "#19d3f3",
          "dash": "solid"
         },
         "mode": "lines",
         "name": "114778",
         "orientation": "v",
         "showlegend": true,
         "type": "scatter",
         "x": [
          "2020-45"
         ],
         "xaxis": "x",
         "y": [
          114778
         ],
         "yaxis": "y"
        },
        {
         "hovertemplate": "cumulative_count=%{y}<br>year_week=%{x}<extra></extra>",
         "legendgroup": "147456",
         "line": {
          "color": "#FF6692",
          "dash": "solid"
         },
         "mode": "lines",
         "name": "147456",
         "orientation": "v",
         "showlegend": true,
         "type": "scatter",
         "x": [
          "2020-46"
         ],
         "xaxis": "x",
         "y": [
          147456
         ],
         "yaxis": "y"
        },
        {
         "hovertemplate": "cumulative_count=%{y}<br>year_week=%{x}<extra></extra>",
         "legendgroup": "177952",
         "line": {
          "color": "#B6E880",
          "dash": "solid"
         },
         "mode": "lines",
         "name": "177952",
         "orientation": "v",
         "showlegend": true,
         "type": "scatter",
         "x": [
          "2020-47"
         ],
         "xaxis": "x",
         "y": [
          177952
         ],
         "yaxis": "y"
        },
        {
         "hovertemplate": "cumulative_count=%{y}<br>year_week=%{x}<extra></extra>",
         "legendgroup": "217122",
         "line": {
          "color": "#FF97FF",
          "dash": "solid"
         },
         "mode": "lines",
         "name": "217122",
         "orientation": "v",
         "showlegend": true,
         "type": "scatter",
         "x": [
          "2020-48"
         ],
         "xaxis": "x",
         "y": [
          217122
         ],
         "yaxis": "y"
        },
        {
         "hovertemplate": "cumulative_count=%{y}<br>year_week=%{x}<extra></extra>",
         "legendgroup": "254148",
         "line": {
          "color": "#FECB52",
          "dash": "solid"
         },
         "mode": "lines",
         "name": "254148",
         "orientation": "v",
         "showlegend": true,
         "type": "scatter",
         "x": [
          "2020-49"
         ],
         "xaxis": "x",
         "y": [
          254148
         ],
         "yaxis": "y"
        },
        {
         "hovertemplate": "cumulative_count=%{y}<br>year_week=%{x}<extra></extra>",
         "legendgroup": "283870",
         "line": {
          "color": "#636efa",
          "dash": "solid"
         },
         "mode": "lines",
         "name": "283870",
         "orientation": "v",
         "showlegend": true,
         "type": "scatter",
         "x": [
          "2020-50"
         ],
         "xaxis": "x",
         "y": [
          283870
         ],
         "yaxis": "y"
        },
        {
         "hovertemplate": "cumulative_count=%{y}<br>year_week=%{x}<extra></extra>",
         "legendgroup": "305130",
         "line": {
          "color": "#EF553B",
          "dash": "solid"
         },
         "mode": "lines",
         "name": "305130",
         "orientation": "v",
         "showlegend": true,
         "type": "scatter",
         "x": [
          "2020-51"
         ],
         "xaxis": "x",
         "y": [
          305130
         ],
         "yaxis": "y"
        },
        {
         "hovertemplate": "cumulative_count=%{y}<br>year_week=%{x}<extra></extra>",
         "legendgroup": "316669",
         "line": {
          "color": "#00cc96",
          "dash": "solid"
         },
         "mode": "lines",
         "name": "316669",
         "orientation": "v",
         "showlegend": true,
         "type": "scatter",
         "x": [
          "2020-52"
         ],
         "xaxis": "x",
         "y": [
          316669
         ],
         "yaxis": "y"
        },
        {
         "hovertemplate": "cumulative_count=%{y}<br>year_week=%{x}<extra></extra>",
         "legendgroup": "328851",
         "line": {
          "color": "#ab63fa",
          "dash": "solid"
         },
         "mode": "lines",
         "name": "328851",
         "orientation": "v",
         "showlegend": true,
         "type": "scatter",
         "x": [
          "2020-53"
         ],
         "xaxis": "x",
         "y": [
          328851
         ],
         "yaxis": "y"
        },
        {
         "hovertemplate": "cumulative_count=%{y}<br>year_week=%{x}<extra></extra>",
         "legendgroup": "343656",
         "line": {
          "color": "#FFA15A",
          "dash": "solid"
         },
         "mode": "lines",
         "name": "343656",
         "orientation": "v",
         "showlegend": true,
         "type": "scatter",
         "x": [
          "2021-01"
         ],
         "xaxis": "x",
         "y": [
          343656
         ],
         "yaxis": "y"
        },
        {
         "hovertemplate": "cumulative_count=%{y}<br>year_week=%{x}<extra></extra>",
         "legendgroup": "352703",
         "line": {
          "color": "#19d3f3",
          "dash": "solid"
         },
         "mode": "lines",
         "name": "352703",
         "orientation": "v",
         "showlegend": true,
         "type": "scatter",
         "x": [
          "2021-02"
         ],
         "xaxis": "x",
         "y": [
          352703
         ],
         "yaxis": "y"
        },
        {
         "hovertemplate": "cumulative_count=%{y}<br>year_week=%{x}<extra></extra>",
         "legendgroup": "360418",
         "line": {
          "color": "#FF6692",
          "dash": "solid"
         },
         "mode": "lines",
         "name": "360418",
         "orientation": "v",
         "showlegend": true,
         "type": "scatter",
         "x": [
          "2021-03"
         ],
         "xaxis": "x",
         "y": [
          360418
         ],
         "yaxis": "y"
        },
        {
         "hovertemplate": "cumulative_count=%{y}<br>year_week=%{x}<extra></extra>",
         "legendgroup": "368710",
         "line": {
          "color": "#B6E880",
          "dash": "solid"
         },
         "mode": "lines",
         "name": "368710",
         "orientation": "v",
         "showlegend": true,
         "type": "scatter",
         "x": [
          "2021-04"
         ],
         "xaxis": "x",
         "y": [
          368710
         ],
         "yaxis": "y"
        },
        {
         "hovertemplate": "cumulative_count=%{y}<br>year_week=%{x}<extra></extra>",
         "legendgroup": "377655",
         "line": {
          "color": "#FF97FF",
          "dash": "solid"
         },
         "mode": "lines",
         "name": "377655",
         "orientation": "v",
         "showlegend": true,
         "type": "scatter",
         "x": [
          "2021-05"
         ],
         "xaxis": "x",
         "y": [
          377655
         ],
         "yaxis": "y"
        },
        {
         "hovertemplate": "cumulative_count=%{y}<br>year_week=%{x}<extra></extra>",
         "legendgroup": "388799",
         "line": {
          "color": "#FECB52",
          "dash": "solid"
         },
         "mode": "lines",
         "name": "388799",
         "orientation": "v",
         "showlegend": true,
         "type": "scatter",
         "x": [
          "2021-06"
         ],
         "xaxis": "x",
         "y": [
          388799
         ],
         "yaxis": "y"
        },
        {
         "hovertemplate": "cumulative_count=%{y}<br>year_week=%{x}<extra></extra>",
         "legendgroup": "405646",
         "line": {
          "color": "#636efa",
          "dash": "solid"
         },
         "mode": "lines",
         "name": "405646",
         "orientation": "v",
         "showlegend": true,
         "type": "scatter",
         "x": [
          "2021-07"
         ],
         "xaxis": "x",
         "y": [
          405646
         ],
         "yaxis": "y"
        },
        {
         "hovertemplate": "cumulative_count=%{y}<br>year_week=%{x}<extra></extra>",
         "legendgroup": "432925",
         "line": {
          "color": "#EF553B",
          "dash": "solid"
         },
         "mode": "lines",
         "name": "432925",
         "orientation": "v",
         "showlegend": true,
         "type": "scatter",
         "x": [
          "2021-08"
         ],
         "xaxis": "x",
         "y": [
          432925
         ],
         "yaxis": "y"
        },
        {
         "hovertemplate": "cumulative_count=%{y}<br>year_week=%{x}<extra></extra>",
         "legendgroup": "468713",
         "line": {
          "color": "#00cc96",
          "dash": "solid"
         },
         "mode": "lines",
         "name": "468713",
         "orientation": "v",
         "showlegend": true,
         "type": "scatter",
         "x": [
          "2021-09"
         ],
         "xaxis": "x",
         "y": [
          468713
         ],
         "yaxis": "y"
        },
        {
         "hovertemplate": "cumulative_count=%{y}<br>year_week=%{x}<extra></extra>",
         "legendgroup": "524196",
         "line": {
          "color": "#ab63fa",
          "dash": "solid"
         },
         "mode": "lines",
         "name": "524196",
         "orientation": "v",
         "showlegend": true,
         "type": "scatter",
         "x": [
          "2021-10"
         ],
         "xaxis": "x",
         "y": [
          524196
         ],
         "yaxis": "y"
        },
        {
         "hovertemplate": "cumulative_count=%{y}<br>year_week=%{x}<extra></extra>",
         "legendgroup": "580642",
         "line": {
          "color": "#FFA15A",
          "dash": "solid"
         },
         "mode": "lines",
         "name": "580642",
         "orientation": "v",
         "showlegend": true,
         "type": "scatter",
         "x": [
          "2021-11"
         ],
         "xaxis": "x",
         "y": [
          580642
         ],
         "yaxis": "y"
        },
        {
         "hovertemplate": "cumulative_count=%{y}<br>year_week=%{x}<extra></extra>",
         "legendgroup": "641124",
         "line": {
          "color": "#19d3f3",
          "dash": "solid"
         },
         "mode": "lines",
         "name": "641124",
         "orientation": "v",
         "showlegend": true,
         "type": "scatter",
         "x": [
          "2021-12"
         ],
         "xaxis": "x",
         "y": [
          641124
         ],
         "yaxis": "y"
        },
        {
         "hovertemplate": "cumulative_count=%{y}<br>year_week=%{x}<extra></extra>",
         "legendgroup": "689853",
         "line": {
          "color": "#FF6692",
          "dash": "solid"
         },
         "mode": "lines",
         "name": "689853",
         "orientation": "v",
         "showlegend": true,
         "type": "scatter",
         "x": [
          "2021-13"
         ],
         "xaxis": "x",
         "y": [
          689853
         ],
         "yaxis": "y"
        },
        {
         "hovertemplate": "cumulative_count=%{y}<br>year_week=%{x}<extra></extra>",
         "legendgroup": "725241",
         "line": {
          "color": "#B6E880",
          "dash": "solid"
         },
         "mode": "lines",
         "name": "725241",
         "orientation": "v",
         "showlegend": true,
         "type": "scatter",
         "x": [
          "2021-14"
         ],
         "xaxis": "x",
         "y": [
          725241
         ],
         "yaxis": "y"
        },
        {
         "hovertemplate": "cumulative_count=%{y}<br>year_week=%{x}<extra></extra>",
         "legendgroup": "0",
         "line": {
          "color": "#FF97FF",
          "dash": "solid"
         },
         "mode": "lines",
         "name": "0",
         "orientation": "v",
         "showlegend": true,
         "type": "scatter",
         "x": [
          "2020-10"
         ],
         "xaxis": "x",
         "y": [
          0
         ],
         "yaxis": "y"
        },
        {
         "hovertemplate": "cumulative_count=%{y}<br>year_week=%{x}<extra></extra>",
         "legendgroup": "1",
         "line": {
          "color": "#FECB52",
          "dash": "solid"
         },
         "mode": "lines",
         "name": "1",
         "orientation": "v",
         "showlegend": true,
         "type": "scatter",
         "x": [
          "2020-11"
         ],
         "xaxis": "x",
         "y": [
          1
         ],
         "yaxis": "y"
        },
        {
         "hovertemplate": "cumulative_count=%{y}<br>year_week=%{x}<extra></extra>",
         "legendgroup": "7",
         "line": {
          "color": "#636efa",
          "dash": "solid"
         },
         "mode": "lines",
         "name": "7",
         "orientation": "v",
         "showlegend": true,
         "type": "scatter",
         "x": [
          "2020-12"
         ],
         "xaxis": "x",
         "y": [
          7
         ],
         "yaxis": "y"
        },
        {
         "hovertemplate": "cumulative_count=%{y}<br>year_week=%{x}<extra></extra>",
         "legendgroup": "15",
         "line": {
          "color": "#EF553B",
          "dash": "solid"
         },
         "mode": "lines",
         "name": "15",
         "orientation": "v",
         "showlegend": true,
         "type": "scatter",
         "x": [
          "2020-13"
         ],
         "xaxis": "x",
         "y": [
          15
         ],
         "yaxis": "y"
        },
        {
         "hovertemplate": "cumulative_count=%{y}<br>year_week=%{x}<extra></extra>",
         "legendgroup": "38",
         "line": {
          "color": "#00cc96",
          "dash": "solid"
         },
         "mode": "lines",
         "name": "38",
         "orientation": "v",
         "showlegend": true,
         "type": "scatter",
         "x": [
          "2020-14"
         ],
         "xaxis": "x",
         "y": [
          38
         ],
         "yaxis": "y"
        },
        {
         "hovertemplate": "cumulative_count=%{y}<br>year_week=%{x}<extra></extra>",
         "legendgroup": "109",
         "line": {
          "color": "#ab63fa",
          "dash": "solid"
         },
         "mode": "lines",
         "name": "109",
         "orientation": "v",
         "showlegend": true,
         "type": "scatter",
         "x": [
          "2020-15"
         ],
         "xaxis": "x",
         "y": [
          109
         ],
         "yaxis": "y"
        },
        {
         "hovertemplate": "cumulative_count=%{y}<br>year_week=%{x}<extra></extra>",
         "legendgroup": "199",
         "line": {
          "color": "#FFA15A",
          "dash": "solid"
         },
         "mode": "lines",
         "name": "199",
         "orientation": "v",
         "showlegend": true,
         "type": "scatter",
         "x": [
          "2020-16"
         ],
         "xaxis": "x",
         "y": [
          199
         ],
         "yaxis": "y"
        },
        {
         "hovertemplate": "cumulative_count=%{y}<br>year_week=%{x}<extra></extra>",
         "legendgroup": "280",
         "line": {
          "color": "#19d3f3",
          "dash": "solid"
         },
         "mode": "lines",
         "name": "280",
         "orientation": "v",
         "showlegend": true,
         "type": "scatter",
         "x": [
          "2020-17"
         ],
         "xaxis": "x",
         "y": [
          280
         ],
         "yaxis": "y"
        },
        {
         "hovertemplate": "cumulative_count=%{y}<br>year_week=%{x}<extra></extra>",
         "legendgroup": "351",
         "line": {
          "color": "#FF6692",
          "dash": "solid"
         },
         "mode": "lines",
         "name": "351",
         "orientation": "v",
         "showlegend": true,
         "type": "scatter",
         "x": [
          "2020-18"
         ],
         "xaxis": "x",
         "y": [
          351
         ],
         "yaxis": "y"
        },
        {
         "hovertemplate": "cumulative_count=%{y}<br>year_week=%{x}<extra></extra>",
         "legendgroup": "421",
         "line": {
          "color": "#B6E880",
          "dash": "solid"
         },
         "mode": "lines",
         "name": "421",
         "orientation": "v",
         "showlegend": true,
         "type": "scatter",
         "x": [
          "2020-19"
         ],
         "xaxis": "x",
         "y": [
          421
         ],
         "yaxis": "y"
        },
        {
         "hovertemplate": "cumulative_count=%{y}<br>year_week=%{x}<extra></extra>",
         "legendgroup": "462",
         "line": {
          "color": "#FF97FF",
          "dash": "solid"
         },
         "mode": "lines",
         "name": "462",
         "orientation": "v",
         "showlegend": true,
         "type": "scatter",
         "x": [
          "2020-20"
         ],
         "xaxis": "x",
         "y": [
          462
         ],
         "yaxis": "y"
        },
        {
         "hovertemplate": "cumulative_count=%{y}<br>year_week=%{x}<extra></extra>",
         "legendgroup": "491",
         "line": {
          "color": "#FECB52",
          "dash": "solid"
         },
         "mode": "lines",
         "name": "491",
         "orientation": "v",
         "showlegend": true,
         "type": "scatter",
         "x": [
          "2020-21"
         ],
         "xaxis": "x",
         "y": [
          491
         ],
         "yaxis": "y"
        },
        {
         "hovertemplate": "cumulative_count=%{y}<br>year_week=%{x}<extra></extra>",
         "legendgroup": "526",
         "line": {
          "color": "#636efa",
          "dash": "solid"
         },
         "mode": "lines",
         "name": "526",
         "orientation": "v",
         "showlegend": true,
         "type": "scatter",
         "x": [
          "2020-22"
         ],
         "xaxis": "x",
         "y": [
          526
         ],
         "yaxis": "y"
        },
        {
         "hovertemplate": "cumulative_count=%{y}<br>year_week=%{x}<extra></extra>",
         "legendgroup": "542",
         "line": {
          "color": "#EF553B",
          "dash": "solid"
         },
         "mode": "lines",
         "name": "542",
         "orientation": "v",
         "showlegend": true,
         "type": "scatter",
         "x": [
          "2020-23"
         ],
         "xaxis": "x",
         "y": [
          542
         ],
         "yaxis": "y"
        },
        {
         "hovertemplate": "cumulative_count=%{y}<br>year_week=%{x}<extra></extra>",
         "legendgroup": "563",
         "line": {
          "color": "#00cc96",
          "dash": "solid"
         },
         "mode": "lines",
         "name": "563",
         "orientation": "v",
         "showlegend": true,
         "type": "scatter",
         "x": [
          "2020-24"
         ],
         "xaxis": "x",
         "y": [
          563
         ],
         "yaxis": "y"
        },
        {
         "hovertemplate": "cumulative_count=%{y}<br>year_week=%{x}<extra></extra>",
         "legendgroup": "572",
         "line": {
          "color": "#ab63fa",
          "dash": "solid"
         },
         "mode": "lines",
         "name": "572",
         "orientation": "v",
         "showlegend": true,
         "type": "scatter",
         "x": [
          "2020-25"
         ],
         "xaxis": "x",
         "y": [
          572
         ],
         "yaxis": "y"
        },
        {
         "hovertemplate": "cumulative_count=%{y}<br>year_week=%{x}<extra></extra>",
         "legendgroup": "581",
         "line": {
          "color": "#FFA15A",
          "dash": "solid"
         },
         "mode": "lines",
         "name": "581",
         "orientation": "v",
         "showlegend": true,
         "type": "scatter",
         "x": [
          "2020-26"
         ],
         "xaxis": "x",
         "y": [
          581
         ],
         "yaxis": "y"
        },
        {
         "hovertemplate": "cumulative_count=%{y}<br>year_week=%{x}<extra></extra>",
         "legendgroup": "589",
         "line": {
          "color": "#19d3f3",
          "dash": "solid"
         },
         "mode": "lines",
         "name": "589",
         "orientation": "v",
         "showlegend": true,
         "type": "scatter",
         "x": [
          "2020-27"
         ],
         "xaxis": "x",
         "y": [
          589
         ],
         "yaxis": "y"
        },
        {
         "hovertemplate": "cumulative_count=%{y}<br>year_week=%{x}<extra></extra>",
         "legendgroup": "595",
         "line": {
          "color": "#FF6692",
          "dash": "solid"
         },
         "mode": "lines",
         "name": "595",
         "orientation": "v",
         "showlegend": true,
         "type": "scatter",
         "x": [
          "2020-28"
         ],
         "xaxis": "x",
         "y": [
          595
         ],
         "yaxis": "y"
        },
        {
         "hovertemplate": "cumulative_count=%{y}<br>year_week=%{x}<extra></extra>",
         "legendgroup": "596",
         "line": {
          "color": "#B6E880",
          "dash": "solid"
         },
         "mode": "lines",
         "name": "596",
         "orientation": "v",
         "showlegend": true,
         "type": "scatter",
         "x": [
          "2020-29",
          "2020-30"
         ],
         "xaxis": "x",
         "y": [
          596,
          596
         ],
         "yaxis": "y"
        },
        {
         "hovertemplate": "cumulative_count=%{y}<br>year_week=%{x}<extra></extra>",
         "legendgroup": "597",
         "line": {
          "color": "#FF97FF",
          "dash": "solid"
         },
         "mode": "lines",
         "name": "597",
         "orientation": "v",
         "showlegend": true,
         "type": "scatter",
         "x": [
          "2020-31"
         ],
         "xaxis": "x",
         "y": [
          597
         ],
         "yaxis": "y"
        },
        {
         "hovertemplate": "cumulative_count=%{y}<br>year_week=%{x}<extra></extra>",
         "legendgroup": "602",
         "line": {
          "color": "#FECB52",
          "dash": "solid"
         },
         "mode": "lines",
         "name": "602",
         "orientation": "v",
         "showlegend": true,
         "type": "scatter",
         "x": [
          "2020-32"
         ],
         "xaxis": "x",
         "y": [
          602
         ],
         "yaxis": "y"
        },
        {
         "hovertemplate": "cumulative_count=%{y}<br>year_week=%{x}<extra></extra>",
         "legendgroup": "608",
         "line": {
          "color": "#636efa",
          "dash": "solid"
         },
         "mode": "lines",
         "name": "608",
         "orientation": "v",
         "showlegend": true,
         "type": "scatter",
         "x": [
          "2020-33"
         ],
         "xaxis": "x",
         "y": [
          608
         ],
         "yaxis": "y"
        },
        {
         "hovertemplate": "cumulative_count=%{y}<br>year_week=%{x}<extra></extra>",
         "legendgroup": "613",
         "line": {
          "color": "#EF553B",
          "dash": "solid"
         },
         "mode": "lines",
         "name": "613",
         "orientation": "v",
         "showlegend": true,
         "type": "scatter",
         "x": [
          "2020-34"
         ],
         "xaxis": "x",
         "y": [
          613
         ],
         "yaxis": "y"
        },
        {
         "hovertemplate": "cumulative_count=%{y}<br>year_week=%{x}<extra></extra>",
         "legendgroup": "614",
         "line": {
          "color": "#00cc96",
          "dash": "solid"
         },
         "mode": "lines",
         "name": "614",
         "orientation": "v",
         "showlegend": true,
         "type": "scatter",
         "x": [
          "2020-35"
         ],
         "xaxis": "x",
         "y": [
          614
         ],
         "yaxis": "y"
        },
        {
         "hovertemplate": "cumulative_count=%{y}<br>year_week=%{x}<extra></extra>",
         "legendgroup": "624",
         "line": {
          "color": "#ab63fa",
          "dash": "solid"
         },
         "mode": "lines",
         "name": "624",
         "orientation": "v",
         "showlegend": true,
         "type": "scatter",
         "x": [
          "2020-36"
         ],
         "xaxis": "x",
         "y": [
          624
         ],
         "yaxis": "y"
        },
        {
         "hovertemplate": "cumulative_count=%{y}<br>year_week=%{x}<extra></extra>",
         "legendgroup": "637",
         "line": {
          "color": "#FFA15A",
          "dash": "solid"
         },
         "mode": "lines",
         "name": "637",
         "orientation": "v",
         "showlegend": true,
         "type": "scatter",
         "x": [
          "2020-37"
         ],
         "xaxis": "x",
         "y": [
          637
         ],
         "yaxis": "y"
        },
        {
         "hovertemplate": "cumulative_count=%{y}<br>year_week=%{x}<extra></extra>",
         "legendgroup": "686",
         "line": {
          "color": "#19d3f3",
          "dash": "solid"
         },
         "mode": "lines",
         "name": "686",
         "orientation": "v",
         "showlegend": true,
         "type": "scatter",
         "x": [
          "2020-38"
         ],
         "xaxis": "x",
         "y": [
          686
         ],
         "yaxis": "y"
        },
        {
         "hovertemplate": "cumulative_count=%{y}<br>year_week=%{x}<extra></extra>",
         "legendgroup": "749",
         "line": {
          "color": "#FF6692",
          "dash": "solid"
         },
         "mode": "lines",
         "name": "749",
         "orientation": "v",
         "showlegend": true,
         "type": "scatter",
         "x": [
          "2020-39"
         ],
         "xaxis": "x",
         "y": [
          749
         ],
         "yaxis": "y"
        },
        {
         "hovertemplate": "cumulative_count=%{y}<br>year_week=%{x}<extra></extra>",
         "legendgroup": "833",
         "line": {
          "color": "#B6E880",
          "dash": "solid"
         },
         "mode": "lines",
         "name": "833",
         "orientation": "v",
         "showlegend": true,
         "type": "scatter",
         "x": [
          "2020-40"
         ],
         "xaxis": "x",
         "y": [
          833
         ],
         "yaxis": "y"
        },
        {
         "hovertemplate": "cumulative_count=%{y}<br>year_week=%{x}<extra></extra>",
         "legendgroup": "968",
         "line": {
          "color": "#FF97FF",
          "dash": "solid"
         },
         "mode": "lines",
         "name": "968",
         "orientation": "v",
         "showlegend": true,
         "type": "scatter",
         "x": [
          "2020-41"
         ],
         "xaxis": "x",
         "y": [
          968
         ],
         "yaxis": "y"
        },
        {
         "hovertemplate": "cumulative_count=%{y}<br>year_week=%{x}<extra></extra>",
         "legendgroup": "1173",
         "line": {
          "color": "#FECB52",
          "dash": "solid"
         },
         "mode": "lines",
         "name": "1173",
         "orientation": "v",
         "showlegend": true,
         "type": "scatter",
         "x": [
          "2020-42"
         ],
         "xaxis": "x",
         "y": [
          1173
         ],
         "yaxis": "y"
        },
        {
         "hovertemplate": "cumulative_count=%{y}<br>year_week=%{x}<extra></extra>",
         "legendgroup": "1472",
         "line": {
          "color": "#636efa",
          "dash": "solid"
         },
         "mode": "lines",
         "name": "1472",
         "orientation": "v",
         "showlegend": true,
         "type": "scatter",
         "x": [
          "2020-43"
         ],
         "xaxis": "x",
         "y": [
          1472
         ],
         "yaxis": "y"
        },
        {
         "hovertemplate": "cumulative_count=%{y}<br>year_week=%{x}<extra></extra>",
         "legendgroup": "1889",
         "line": {
          "color": "#EF553B",
          "dash": "solid"
         },
         "mode": "lines",
         "name": "1889",
         "orientation": "v",
         "showlegend": true,
         "type": "scatter",
         "x": [
          "2020-44"
         ],
         "xaxis": "x",
         "y": [
          1889
         ],
         "yaxis": "y"
        },
        {
         "hovertemplate": "cumulative_count=%{y}<br>year_week=%{x}<extra></extra>",
         "legendgroup": "2493",
         "line": {
          "color": "#00cc96",
          "dash": "solid"
         },
         "mode": "lines",
         "name": "2493",
         "orientation": "v",
         "showlegend": true,
         "type": "scatter",
         "x": [
          "2020-45"
         ],
         "xaxis": "x",
         "y": [
          2493
         ],
         "yaxis": "y"
        },
        {
         "hovertemplate": "cumulative_count=%{y}<br>year_week=%{x}<extra></extra>",
         "legendgroup": "3190",
         "line": {
          "color": "#ab63fa",
          "dash": "solid"
         },
         "mode": "lines",
         "name": "3190",
         "orientation": "v",
         "showlegend": true,
         "type": "scatter",
         "x": [
          "2020-46"
         ],
         "xaxis": "x",
         "y": [
          3190
         ],
         "yaxis": "y"
        },
        {
         "hovertemplate": "cumulative_count=%{y}<br>year_week=%{x}<extra></extra>",
         "legendgroup": "3891",
         "line": {
          "color": "#FFA15A",
          "dash": "solid"
         },
         "mode": "lines",
         "name": "3891",
         "orientation": "v",
         "showlegend": true,
         "type": "scatter",
         "x": [
          "2020-47"
         ],
         "xaxis": "x",
         "y": [
          3891
         ],
         "yaxis": "y"
        },
        {
         "hovertemplate": "cumulative_count=%{y}<br>year_week=%{x}<extra></extra>",
         "legendgroup": "4823",
         "line": {
          "color": "#19d3f3",
          "dash": "solid"
         },
         "mode": "lines",
         "name": "4823",
         "orientation": "v",
         "showlegend": true,
         "type": "scatter",
         "x": [
          "2020-48"
         ],
         "xaxis": "x",
         "y": [
          4823
         ],
         "yaxis": "y"
        },
        {
         "hovertemplate": "cumulative_count=%{y}<br>year_week=%{x}<extra></extra>",
         "legendgroup": "5984",
         "line": {
          "color": "#FF6692",
          "dash": "solid"
         },
         "mode": "lines",
         "name": "5984",
         "orientation": "v",
         "showlegend": true,
         "type": "scatter",
         "x": [
          "2020-49"
         ],
         "xaxis": "x",
         "y": [
          5984
         ],
         "yaxis": "y"
        },
        {
         "hovertemplate": "cumulative_count=%{y}<br>year_week=%{x}<extra></extra>",
         "legendgroup": "7130",
         "line": {
          "color": "#B6E880",
          "dash": "solid"
         },
         "mode": "lines",
         "name": "7130",
         "orientation": "v",
         "showlegend": true,
         "type": "scatter",
         "x": [
          "2020-50"
         ],
         "xaxis": "x",
         "y": [
          7130
         ],
         "yaxis": "y"
        },
        {
         "hovertemplate": "cumulative_count=%{y}<br>year_week=%{x}<extra></extra>",
         "legendgroup": "8282",
         "line": {
          "color": "#FF97FF",
          "dash": "solid"
         },
         "mode": "lines",
         "name": "8282",
         "orientation": "v",
         "showlegend": true,
         "type": "scatter",
         "x": [
          "2020-51"
         ],
         "xaxis": "x",
         "y": [
          8282
         ],
         "yaxis": "y"
        },
        {
         "hovertemplate": "cumulative_count=%{y}<br>year_week=%{x}<extra></extra>",
         "legendgroup": "9161",
         "line": {
          "color": "#FECB52",
          "dash": "solid"
         },
         "mode": "lines",
         "name": "9161",
         "orientation": "v",
         "showlegend": true,
         "type": "scatter",
         "x": [
          "2020-52"
         ],
         "xaxis": "x",
         "y": [
          9161
         ],
         "yaxis": "y"
        },
        {
         "hovertemplate": "cumulative_count=%{y}<br>year_week=%{x}<extra></extra>",
         "legendgroup": "9977",
         "line": {
          "color": "#636efa",
          "dash": "solid"
         },
         "mode": "lines",
         "name": "9977",
         "orientation": "v",
         "showlegend": true,
         "type": "scatter",
         "x": [
          "2020-53"
         ],
         "xaxis": "x",
         "y": [
          9977
         ],
         "yaxis": "y"
        },
        {
         "hovertemplate": "cumulative_count=%{y}<br>year_week=%{x}<extra></extra>",
         "legendgroup": "10725",
         "line": {
          "color": "#EF553B",
          "dash": "solid"
         },
         "mode": "lines",
         "name": "10725",
         "orientation": "v",
         "showlegend": true,
         "type": "scatter",
         "x": [
          "2021-01"
         ],
         "xaxis": "x",
         "y": [
          10725
         ],
         "yaxis": "y"
        },
        {
         "hovertemplate": "cumulative_count=%{y}<br>year_week=%{x}<extra></extra>",
         "legendgroup": "11409",
         "line": {
          "color": "#00cc96",
          "dash": "solid"
         },
         "mode": "lines",
         "name": "11409",
         "orientation": "v",
         "showlegend": true,
         "type": "scatter",
         "x": [
          "2021-02"
         ],
         "xaxis": "x",
         "y": [
          11409
         ],
         "yaxis": "y"
        },
        {
         "hovertemplate": "cumulative_count=%{y}<br>year_week=%{x}<extra></extra>",
         "legendgroup": "12024",
         "line": {
          "color": "#ab63fa",
          "dash": "solid"
         },
         "mode": "lines",
         "name": "12024",
         "orientation": "v",
         "showlegend": true,
         "type": "scatter",
         "x": [
          "2021-03"
         ],
         "xaxis": "x",
         "y": [
          12024
         ],
         "yaxis": "y"
        },
        {
         "hovertemplate": "cumulative_count=%{y}<br>year_week=%{x}<extra></extra>",
         "legendgroup": "12578",
         "line": {
          "color": "#FFA15A",
          "dash": "solid"
         },
         "mode": "lines",
         "name": "12578",
         "orientation": "v",
         "showlegend": true,
         "type": "scatter",
         "x": [
          "2021-04"
         ],
         "xaxis": "x",
         "y": [
          12578
         ],
         "yaxis": "y"
        },
        {
         "hovertemplate": "cumulative_count=%{y}<br>year_week=%{x}<extra></extra>",
         "legendgroup": "13155",
         "line": {
          "color": "#19d3f3",
          "dash": "solid"
         },
         "mode": "lines",
         "name": "13155",
         "orientation": "v",
         "showlegend": true,
         "type": "scatter",
         "x": [
          "2021-05"
         ],
         "xaxis": "x",
         "y": [
          13155
         ],
         "yaxis": "y"
        },
        {
         "hovertemplate": "cumulative_count=%{y}<br>year_week=%{x}<extra></extra>",
         "legendgroup": "13752",
         "line": {
          "color": "#FF6692",
          "dash": "solid"
         },
         "mode": "lines",
         "name": "13752",
         "orientation": "v",
         "showlegend": true,
         "type": "scatter",
         "x": [
          "2021-06"
         ],
         "xaxis": "x",
         "y": [
          13752
         ],
         "yaxis": "y"
        },
        {
         "hovertemplate": "cumulative_count=%{y}<br>year_week=%{x}<extra></extra>",
         "legendgroup": "14347",
         "line": {
          "color": "#B6E880",
          "dash": "solid"
         },
         "mode": "lines",
         "name": "14347",
         "orientation": "v",
         "showlegend": true,
         "type": "scatter",
         "x": [
          "2021-07"
         ],
         "xaxis": "x",
         "y": [
          14347
         ],
         "yaxis": "y"
        },
        {
         "hovertemplate": "cumulative_count=%{y}<br>year_week=%{x}<extra></extra>",
         "legendgroup": "15058",
         "line": {
          "color": "#FF97FF",
          "dash": "solid"
         },
         "mode": "lines",
         "name": "15058",
         "orientation": "v",
         "showlegend": true,
         "type": "scatter",
         "x": [
          "2021-08"
         ],
         "xaxis": "x",
         "y": [
          15058
         ],
         "yaxis": "y"
        },
        {
         "hovertemplate": "cumulative_count=%{y}<br>year_week=%{x}<extra></extra>",
         "legendgroup": "15988",
         "line": {
          "color": "#FECB52",
          "dash": "solid"
         },
         "mode": "lines",
         "name": "15988",
         "orientation": "v",
         "showlegend": true,
         "type": "scatter",
         "x": [
          "2021-09"
         ],
         "xaxis": "x",
         "y": [
          15988
         ],
         "yaxis": "y"
        },
        {
         "hovertemplate": "cumulative_count=%{y}<br>year_week=%{x}<extra></extra>",
         "legendgroup": "17083",
         "line": {
          "color": "#636efa",
          "dash": "solid"
         },
         "mode": "lines",
         "name": "17083",
         "orientation": "v",
         "showlegend": true,
         "type": "scatter",
         "x": [
          "2021-10"
         ],
         "xaxis": "x",
         "y": [
          17083
         ],
         "yaxis": "y"
        },
        {
         "hovertemplate": "cumulative_count=%{y}<br>year_week=%{x}<extra></extra>",
         "legendgroup": "18451",
         "line": {
          "color": "#EF553B",
          "dash": "solid"
         },
         "mode": "lines",
         "name": "18451",
         "orientation": "v",
         "showlegend": true,
         "type": "scatter",
         "x": [
          "2021-11"
         ],
         "xaxis": "x",
         "y": [
          18451
         ],
         "yaxis": "y"
        },
        {
         "hovertemplate": "cumulative_count=%{y}<br>year_week=%{x}<extra></extra>",
         "legendgroup": "20161",
         "line": {
          "color": "#00cc96",
          "dash": "solid"
         },
         "mode": "lines",
         "name": "20161",
         "orientation": "v",
         "showlegend": true,
         "type": "scatter",
         "x": [
          "2021-12"
         ],
         "xaxis": "x",
         "y": [
          20161
         ],
         "yaxis": "y"
        },
        {
         "hovertemplate": "cumulative_count=%{y}<br>year_week=%{x}<extra></extra>",
         "legendgroup": "21928",
         "line": {
          "color": "#ab63fa",
          "dash": "solid"
         },
         "mode": "lines",
         "name": "21928",
         "orientation": "v",
         "showlegend": true,
         "type": "scatter",
         "x": [
          "2021-13"
         ],
         "xaxis": "x",
         "y": [
          21928
         ],
         "yaxis": "y"
        },
        {
         "hovertemplate": "cumulative_count=%{y}<br>year_week=%{x}<extra></extra>",
         "legendgroup": "23708",
         "line": {
          "color": "#FFA15A",
          "dash": "solid"
         },
         "mode": "lines",
         "name": "23708",
         "orientation": "v",
         "showlegend": true,
         "type": "scatter",
         "x": [
          "2021-14"
         ],
         "xaxis": "x",
         "y": [
          23708
         ],
         "yaxis": "y"
        }
       ],
       "layout": {
        "legend": {
         "title": {
          "text": "cumulative_count"
         },
         "tracegroupgap": 0
        },
        "margin": {
         "t": 60
        },
        "template": {
         "data": {
          "bar": [
           {
            "error_x": {
             "color": "#2a3f5f"
            },
            "error_y": {
             "color": "#2a3f5f"
            },
            "marker": {
             "line": {
              "color": "#E5ECF6",
              "width": 0.5
             }
            },
            "type": "bar"
           }
          ],
          "barpolar": [
           {
            "marker": {
             "line": {
              "color": "#E5ECF6",
              "width": 0.5
             }
            },
            "type": "barpolar"
           }
          ],
          "carpet": [
           {
            "aaxis": {
             "endlinecolor": "#2a3f5f",
             "gridcolor": "white",
             "linecolor": "white",
             "minorgridcolor": "white",
             "startlinecolor": "#2a3f5f"
            },
            "baxis": {
             "endlinecolor": "#2a3f5f",
             "gridcolor": "white",
             "linecolor": "white",
             "minorgridcolor": "white",
             "startlinecolor": "#2a3f5f"
            },
            "type": "carpet"
           }
          ],
          "choropleth": [
           {
            "colorbar": {
             "outlinewidth": 0,
             "ticks": ""
            },
            "type": "choropleth"
           }
          ],
          "contour": [
           {
            "colorbar": {
             "outlinewidth": 0,
             "ticks": ""
            },
            "colorscale": [
             [
              0,
              "#0d0887"
             ],
             [
              0.1111111111111111,
              "#46039f"
             ],
             [
              0.2222222222222222,
              "#7201a8"
             ],
             [
              0.3333333333333333,
              "#9c179e"
             ],
             [
              0.4444444444444444,
              "#bd3786"
             ],
             [
              0.5555555555555556,
              "#d8576b"
             ],
             [
              0.6666666666666666,
              "#ed7953"
             ],
             [
              0.7777777777777778,
              "#fb9f3a"
             ],
             [
              0.8888888888888888,
              "#fdca26"
             ],
             [
              1,
              "#f0f921"
             ]
            ],
            "type": "contour"
           }
          ],
          "contourcarpet": [
           {
            "colorbar": {
             "outlinewidth": 0,
             "ticks": ""
            },
            "type": "contourcarpet"
           }
          ],
          "heatmap": [
           {
            "colorbar": {
             "outlinewidth": 0,
             "ticks": ""
            },
            "colorscale": [
             [
              0,
              "#0d0887"
             ],
             [
              0.1111111111111111,
              "#46039f"
             ],
             [
              0.2222222222222222,
              "#7201a8"
             ],
             [
              0.3333333333333333,
              "#9c179e"
             ],
             [
              0.4444444444444444,
              "#bd3786"
             ],
             [
              0.5555555555555556,
              "#d8576b"
             ],
             [
              0.6666666666666666,
              "#ed7953"
             ],
             [
              0.7777777777777778,
              "#fb9f3a"
             ],
             [
              0.8888888888888888,
              "#fdca26"
             ],
             [
              1,
              "#f0f921"
             ]
            ],
            "type": "heatmap"
           }
          ],
          "heatmapgl": [
           {
            "colorbar": {
             "outlinewidth": 0,
             "ticks": ""
            },
            "colorscale": [
             [
              0,
              "#0d0887"
             ],
             [
              0.1111111111111111,
              "#46039f"
             ],
             [
              0.2222222222222222,
              "#7201a8"
             ],
             [
              0.3333333333333333,
              "#9c179e"
             ],
             [
              0.4444444444444444,
              "#bd3786"
             ],
             [
              0.5555555555555556,
              "#d8576b"
             ],
             [
              0.6666666666666666,
              "#ed7953"
             ],
             [
              0.7777777777777778,
              "#fb9f3a"
             ],
             [
              0.8888888888888888,
              "#fdca26"
             ],
             [
              1,
              "#f0f921"
             ]
            ],
            "type": "heatmapgl"
           }
          ],
          "histogram": [
           {
            "marker": {
             "colorbar": {
              "outlinewidth": 0,
              "ticks": ""
             }
            },
            "type": "histogram"
           }
          ],
          "histogram2d": [
           {
            "colorbar": {
             "outlinewidth": 0,
             "ticks": ""
            },
            "colorscale": [
             [
              0,
              "#0d0887"
             ],
             [
              0.1111111111111111,
              "#46039f"
             ],
             [
              0.2222222222222222,
              "#7201a8"
             ],
             [
              0.3333333333333333,
              "#9c179e"
             ],
             [
              0.4444444444444444,
              "#bd3786"
             ],
             [
              0.5555555555555556,
              "#d8576b"
             ],
             [
              0.6666666666666666,
              "#ed7953"
             ],
             [
              0.7777777777777778,
              "#fb9f3a"
             ],
             [
              0.8888888888888888,
              "#fdca26"
             ],
             [
              1,
              "#f0f921"
             ]
            ],
            "type": "histogram2d"
           }
          ],
          "histogram2dcontour": [
           {
            "colorbar": {
             "outlinewidth": 0,
             "ticks": ""
            },
            "colorscale": [
             [
              0,
              "#0d0887"
             ],
             [
              0.1111111111111111,
              "#46039f"
             ],
             [
              0.2222222222222222,
              "#7201a8"
             ],
             [
              0.3333333333333333,
              "#9c179e"
             ],
             [
              0.4444444444444444,
              "#bd3786"
             ],
             [
              0.5555555555555556,
              "#d8576b"
             ],
             [
              0.6666666666666666,
              "#ed7953"
             ],
             [
              0.7777777777777778,
              "#fb9f3a"
             ],
             [
              0.8888888888888888,
              "#fdca26"
             ],
             [
              1,
              "#f0f921"
             ]
            ],
            "type": "histogram2dcontour"
           }
          ],
          "mesh3d": [
           {
            "colorbar": {
             "outlinewidth": 0,
             "ticks": ""
            },
            "type": "mesh3d"
           }
          ],
          "parcoords": [
           {
            "line": {
             "colorbar": {
              "outlinewidth": 0,
              "ticks": ""
             }
            },
            "type": "parcoords"
           }
          ],
          "pie": [
           {
            "automargin": true,
            "type": "pie"
           }
          ],
          "scatter": [
           {
            "marker": {
             "colorbar": {
              "outlinewidth": 0,
              "ticks": ""
             }
            },
            "type": "scatter"
           }
          ],
          "scatter3d": [
           {
            "line": {
             "colorbar": {
              "outlinewidth": 0,
              "ticks": ""
             }
            },
            "marker": {
             "colorbar": {
              "outlinewidth": 0,
              "ticks": ""
             }
            },
            "type": "scatter3d"
           }
          ],
          "scattercarpet": [
           {
            "marker": {
             "colorbar": {
              "outlinewidth": 0,
              "ticks": ""
             }
            },
            "type": "scattercarpet"
           }
          ],
          "scattergeo": [
           {
            "marker": {
             "colorbar": {
              "outlinewidth": 0,
              "ticks": ""
             }
            },
            "type": "scattergeo"
           }
          ],
          "scattergl": [
           {
            "marker": {
             "colorbar": {
              "outlinewidth": 0,
              "ticks": ""
             }
            },
            "type": "scattergl"
           }
          ],
          "scattermapbox": [
           {
            "marker": {
             "colorbar": {
              "outlinewidth": 0,
              "ticks": ""
             }
            },
            "type": "scattermapbox"
           }
          ],
          "scatterpolar": [
           {
            "marker": {
             "colorbar": {
              "outlinewidth": 0,
              "ticks": ""
             }
            },
            "type": "scatterpolar"
           }
          ],
          "scatterpolargl": [
           {
            "marker": {
             "colorbar": {
              "outlinewidth": 0,
              "ticks": ""
             }
            },
            "type": "scatterpolargl"
           }
          ],
          "scatterternary": [
           {
            "marker": {
             "colorbar": {
              "outlinewidth": 0,
              "ticks": ""
             }
            },
            "type": "scatterternary"
           }
          ],
          "surface": [
           {
            "colorbar": {
             "outlinewidth": 0,
             "ticks": ""
            },
            "colorscale": [
             [
              0,
              "#0d0887"
             ],
             [
              0.1111111111111111,
              "#46039f"
             ],
             [
              0.2222222222222222,
              "#7201a8"
             ],
             [
              0.3333333333333333,
              "#9c179e"
             ],
             [
              0.4444444444444444,
              "#bd3786"
             ],
             [
              0.5555555555555556,
              "#d8576b"
             ],
             [
              0.6666666666666666,
              "#ed7953"
             ],
             [
              0.7777777777777778,
              "#fb9f3a"
             ],
             [
              0.8888888888888888,
              "#fdca26"
             ],
             [
              1,
              "#f0f921"
             ]
            ],
            "type": "surface"
           }
          ],
          "table": [
           {
            "cells": {
             "fill": {
              "color": "#EBF0F8"
             },
             "line": {
              "color": "white"
             }
            },
            "header": {
             "fill": {
              "color": "#C8D4E3"
             },
             "line": {
              "color": "white"
             }
            },
            "type": "table"
           }
          ]
         },
         "layout": {
          "annotationdefaults": {
           "arrowcolor": "#2a3f5f",
           "arrowhead": 0,
           "arrowwidth": 1
          },
          "autotypenumbers": "strict",
          "coloraxis": {
           "colorbar": {
            "outlinewidth": 0,
            "ticks": ""
           }
          },
          "colorscale": {
           "diverging": [
            [
             0,
             "#8e0152"
            ],
            [
             0.1,
             "#c51b7d"
            ],
            [
             0.2,
             "#de77ae"
            ],
            [
             0.3,
             "#f1b6da"
            ],
            [
             0.4,
             "#fde0ef"
            ],
            [
             0.5,
             "#f7f7f7"
            ],
            [
             0.6,
             "#e6f5d0"
            ],
            [
             0.7,
             "#b8e186"
            ],
            [
             0.8,
             "#7fbc41"
            ],
            [
             0.9,
             "#4d9221"
            ],
            [
             1,
             "#276419"
            ]
           ],
           "sequential": [
            [
             0,
             "#0d0887"
            ],
            [
             0.1111111111111111,
             "#46039f"
            ],
            [
             0.2222222222222222,
             "#7201a8"
            ],
            [
             0.3333333333333333,
             "#9c179e"
            ],
            [
             0.4444444444444444,
             "#bd3786"
            ],
            [
             0.5555555555555556,
             "#d8576b"
            ],
            [
             0.6666666666666666,
             "#ed7953"
            ],
            [
             0.7777777777777778,
             "#fb9f3a"
            ],
            [
             0.8888888888888888,
             "#fdca26"
            ],
            [
             1,
             "#f0f921"
            ]
           ],
           "sequentialminus": [
            [
             0,
             "#0d0887"
            ],
            [
             0.1111111111111111,
             "#46039f"
            ],
            [
             0.2222222222222222,
             "#7201a8"
            ],
            [
             0.3333333333333333,
             "#9c179e"
            ],
            [
             0.4444444444444444,
             "#bd3786"
            ],
            [
             0.5555555555555556,
             "#d8576b"
            ],
            [
             0.6666666666666666,
             "#ed7953"
            ],
            [
             0.7777777777777778,
             "#fb9f3a"
            ],
            [
             0.8888888888888888,
             "#fdca26"
            ],
            [
             1,
             "#f0f921"
            ]
           ]
          },
          "colorway": [
           "#636efa",
           "#EF553B",
           "#00cc96",
           "#ab63fa",
           "#FFA15A",
           "#19d3f3",
           "#FF6692",
           "#B6E880",
           "#FF97FF",
           "#FECB52"
          ],
          "font": {
           "color": "#2a3f5f"
          },
          "geo": {
           "bgcolor": "white",
           "lakecolor": "white",
           "landcolor": "#E5ECF6",
           "showlakes": true,
           "showland": true,
           "subunitcolor": "white"
          },
          "hoverlabel": {
           "align": "left"
          },
          "hovermode": "closest",
          "mapbox": {
           "style": "light"
          },
          "paper_bgcolor": "white",
          "plot_bgcolor": "#E5ECF6",
          "polar": {
           "angularaxis": {
            "gridcolor": "white",
            "linecolor": "white",
            "ticks": ""
           },
           "bgcolor": "#E5ECF6",
           "radialaxis": {
            "gridcolor": "white",
            "linecolor": "white",
            "ticks": ""
           }
          },
          "scene": {
           "xaxis": {
            "backgroundcolor": "#E5ECF6",
            "gridcolor": "white",
            "gridwidth": 2,
            "linecolor": "white",
            "showbackground": true,
            "ticks": "",
            "zerolinecolor": "white"
           },
           "yaxis": {
            "backgroundcolor": "#E5ECF6",
            "gridcolor": "white",
            "gridwidth": 2,
            "linecolor": "white",
            "showbackground": true,
            "ticks": "",
            "zerolinecolor": "white"
           },
           "zaxis": {
            "backgroundcolor": "#E5ECF6",
            "gridcolor": "white",
            "gridwidth": 2,
            "linecolor": "white",
            "showbackground": true,
            "ticks": "",
            "zerolinecolor": "white"
           }
          },
          "shapedefaults": {
           "line": {
            "color": "#2a3f5f"
           }
          },
          "ternary": {
           "aaxis": {
            "gridcolor": "white",
            "linecolor": "white",
            "ticks": ""
           },
           "baxis": {
            "gridcolor": "white",
            "linecolor": "white",
            "ticks": ""
           },
           "bgcolor": "#E5ECF6",
           "caxis": {
            "gridcolor": "white",
            "linecolor": "white",
            "ticks": ""
           }
          },
          "title": {
           "x": 0.05
          },
          "xaxis": {
           "automargin": true,
           "gridcolor": "white",
           "linecolor": "white",
           "ticks": "",
           "title": {
            "standoff": 15
           },
           "zerolinecolor": "white",
           "zerolinewidth": 2
          },
          "yaxis": {
           "automargin": true,
           "gridcolor": "white",
           "linecolor": "white",
           "ticks": "",
           "title": {
            "standoff": 15
           },
           "zerolinecolor": "white",
           "zerolinewidth": 2
          }
         }
        },
        "xaxis": {
         "anchor": "y",
         "domain": [
          0,
          1
         ],
         "title": {
          "text": "year_week"
         }
        },
        "yaxis": {
         "anchor": "x",
         "categoryarray": [
          23708,
          21928,
          20161,
          18451,
          17083,
          15988,
          15058,
          14347,
          13752,
          13155,
          12578,
          12024,
          11409,
          10725,
          9977,
          9161,
          8282,
          7130,
          5984,
          4823,
          3891,
          3190,
          2493,
          1889,
          1472,
          1173,
          968,
          833,
          749,
          686,
          637,
          624,
          614,
          613,
          608,
          602,
          597,
          596,
          595,
          589,
          581,
          572,
          563,
          542,
          526,
          491,
          462,
          421,
          351,
          280,
          199,
          109,
          38,
          15,
          7,
          1,
          0,
          725241,
          689853,
          641124,
          580642,
          524196,
          468713,
          432925,
          405646,
          388799,
          377655,
          368710,
          360418,
          352703,
          343656,
          328851,
          316669,
          305130,
          283870,
          254148,
          217122,
          177952,
          147456,
          114778,
          82780,
          61563,
          47768,
          38577,
          31480,
          24716,
          18866,
          12309,
          8387,
          5961,
          5155,
          4916,
          4696,
          4535,
          4448,
          4333,
          4234,
          4183,
          4142,
          4102,
          4076,
          3970,
          3876,
          3756,
          3535,
          3284,
          3035,
          2583,
          1984,
          1458,
          744,
          447,
          167,
          39,
          8
         ],
         "categoryorder": "array",
         "domain": [
          0,
          1
         ],
         "title": {
          "text": "cumulative_count"
         }
        }
       }
      },
      "text/html": [
       "<div>                            <div id=\"994d47cf-b043-4e36-9315-9c5ce7235a64\" class=\"plotly-graph-div\" style=\"height:525px; width:100%;\"></div>            <script type=\"text/javascript\">                require([\"plotly\"], function(Plotly) {                    window.PLOTLYENV=window.PLOTLYENV || {};                                    if (document.getElementById(\"994d47cf-b043-4e36-9315-9c5ce7235a64\")) {                    Plotly.newPlot(                        \"994d47cf-b043-4e36-9315-9c5ce7235a64\",                        [{\"hovertemplate\": \"cumulative_count=%{y}<br>year_week=%{x}<extra></extra>\", \"legendgroup\": \"8\", \"line\": {\"color\": \"#636efa\", \"dash\": \"solid\"}, \"mode\": \"lines\", \"name\": \"8\", \"orientation\": \"v\", \"showlegend\": true, \"type\": \"scatter\", \"x\": [\"2020-10\"], \"xaxis\": \"x\", \"y\": [8], \"yaxis\": \"y\"}, {\"hovertemplate\": \"cumulative_count=%{y}<br>year_week=%{x}<extra></extra>\", \"legendgroup\": \"39\", \"line\": {\"color\": \"#EF553B\", \"dash\": \"solid\"}, \"mode\": \"lines\", \"name\": \"39\", \"orientation\": \"v\", \"showlegend\": true, \"type\": \"scatter\", \"x\": [\"2020-11\"], \"xaxis\": \"x\", \"y\": [39], \"yaxis\": \"y\"}, {\"hovertemplate\": \"cumulative_count=%{y}<br>year_week=%{x}<extra></extra>\", \"legendgroup\": \"167\", \"line\": {\"color\": \"#00cc96\", \"dash\": \"solid\"}, \"mode\": \"lines\", \"name\": \"167\", \"orientation\": \"v\", \"showlegend\": true, \"type\": \"scatter\", \"x\": [\"2020-12\"], \"xaxis\": \"x\", \"y\": [167], \"yaxis\": \"y\"}, {\"hovertemplate\": \"cumulative_count=%{y}<br>year_week=%{x}<extra></extra>\", \"legendgroup\": \"447\", \"line\": {\"color\": \"#ab63fa\", \"dash\": \"solid\"}, \"mode\": \"lines\", \"name\": \"447\", \"orientation\": \"v\", \"showlegend\": true, \"type\": \"scatter\", \"x\": [\"2020-13\"], \"xaxis\": \"x\", \"y\": [447], \"yaxis\": \"y\"}, {\"hovertemplate\": \"cumulative_count=%{y}<br>year_week=%{x}<extra></extra>\", \"legendgroup\": \"744\", \"line\": {\"color\": \"#FFA15A\", \"dash\": \"solid\"}, \"mode\": \"lines\", \"name\": \"744\", \"orientation\": \"v\", \"showlegend\": true, \"type\": \"scatter\", \"x\": [\"2020-14\"], \"xaxis\": \"x\", \"y\": [744], \"yaxis\": \"y\"}, {\"hovertemplate\": \"cumulative_count=%{y}<br>year_week=%{x}<extra></extra>\", \"legendgroup\": \"1458\", \"line\": {\"color\": \"#19d3f3\", \"dash\": \"solid\"}, \"mode\": \"lines\", \"name\": \"1458\", \"orientation\": \"v\", \"showlegend\": true, \"type\": \"scatter\", \"x\": [\"2020-15\"], \"xaxis\": \"x\", \"y\": [1458], \"yaxis\": \"y\"}, {\"hovertemplate\": \"cumulative_count=%{y}<br>year_week=%{x}<extra></extra>\", \"legendgroup\": \"1984\", \"line\": {\"color\": \"#FF6692\", \"dash\": \"solid\"}, \"mode\": \"lines\", \"name\": \"1984\", \"orientation\": \"v\", \"showlegend\": true, \"type\": \"scatter\", \"x\": [\"2020-16\"], \"xaxis\": \"x\", \"y\": [1984], \"yaxis\": \"y\"}, {\"hovertemplate\": \"cumulative_count=%{y}<br>year_week=%{x}<extra></extra>\", \"legendgroup\": \"2583\", \"line\": {\"color\": \"#B6E880\", \"dash\": \"solid\"}, \"mode\": \"lines\", \"name\": \"2583\", \"orientation\": \"v\", \"showlegend\": true, \"type\": \"scatter\", \"x\": [\"2020-17\"], \"xaxis\": \"x\", \"y\": [2583], \"yaxis\": \"y\"}, {\"hovertemplate\": \"cumulative_count=%{y}<br>year_week=%{x}<extra></extra>\", \"legendgroup\": \"3035\", \"line\": {\"color\": \"#FF97FF\", \"dash\": \"solid\"}, \"mode\": \"lines\", \"name\": \"3035\", \"orientation\": \"v\", \"showlegend\": true, \"type\": \"scatter\", \"x\": [\"2020-18\"], \"xaxis\": \"x\", \"y\": [3035], \"yaxis\": \"y\"}, {\"hovertemplate\": \"cumulative_count=%{y}<br>year_week=%{x}<extra></extra>\", \"legendgroup\": \"3284\", \"line\": {\"color\": \"#FECB52\", \"dash\": \"solid\"}, \"mode\": \"lines\", \"name\": \"3284\", \"orientation\": \"v\", \"showlegend\": true, \"type\": \"scatter\", \"x\": [\"2020-19\"], \"xaxis\": \"x\", \"y\": [3284], \"yaxis\": \"y\"}, {\"hovertemplate\": \"cumulative_count=%{y}<br>year_week=%{x}<extra></extra>\", \"legendgroup\": \"3535\", \"line\": {\"color\": \"#636efa\", \"dash\": \"solid\"}, \"mode\": \"lines\", \"name\": \"3535\", \"orientation\": \"v\", \"showlegend\": true, \"type\": \"scatter\", \"x\": [\"2020-20\"], \"xaxis\": \"x\", \"y\": [3535], \"yaxis\": \"y\"}, {\"hovertemplate\": \"cumulative_count=%{y}<br>year_week=%{x}<extra></extra>\", \"legendgroup\": \"3756\", \"line\": {\"color\": \"#EF553B\", \"dash\": \"solid\"}, \"mode\": \"lines\", \"name\": \"3756\", \"orientation\": \"v\", \"showlegend\": true, \"type\": \"scatter\", \"x\": [\"2020-21\"], \"xaxis\": \"x\", \"y\": [3756], \"yaxis\": \"y\"}, {\"hovertemplate\": \"cumulative_count=%{y}<br>year_week=%{x}<extra></extra>\", \"legendgroup\": \"3876\", \"line\": {\"color\": \"#00cc96\", \"dash\": \"solid\"}, \"mode\": \"lines\", \"name\": \"3876\", \"orientation\": \"v\", \"showlegend\": true, \"type\": \"scatter\", \"x\": [\"2020-22\"], \"xaxis\": \"x\", \"y\": [3876], \"yaxis\": \"y\"}, {\"hovertemplate\": \"cumulative_count=%{y}<br>year_week=%{x}<extra></extra>\", \"legendgroup\": \"3970\", \"line\": {\"color\": \"#ab63fa\", \"dash\": \"solid\"}, \"mode\": \"lines\", \"name\": \"3970\", \"orientation\": \"v\", \"showlegend\": true, \"type\": \"scatter\", \"x\": [\"2020-23\"], \"xaxis\": \"x\", \"y\": [3970], \"yaxis\": \"y\"}, {\"hovertemplate\": \"cumulative_count=%{y}<br>year_week=%{x}<extra></extra>\", \"legendgroup\": \"4076\", \"line\": {\"color\": \"#FFA15A\", \"dash\": \"solid\"}, \"mode\": \"lines\", \"name\": \"4076\", \"orientation\": \"v\", \"showlegend\": true, \"type\": \"scatter\", \"x\": [\"2020-24\"], \"xaxis\": \"x\", \"y\": [4076], \"yaxis\": \"y\"}, {\"hovertemplate\": \"cumulative_count=%{y}<br>year_week=%{x}<extra></extra>\", \"legendgroup\": \"4102\", \"line\": {\"color\": \"#19d3f3\", \"dash\": \"solid\"}, \"mode\": \"lines\", \"name\": \"4102\", \"orientation\": \"v\", \"showlegend\": true, \"type\": \"scatter\", \"x\": [\"2020-25\"], \"xaxis\": \"x\", \"y\": [4102], \"yaxis\": \"y\"}, {\"hovertemplate\": \"cumulative_count=%{y}<br>year_week=%{x}<extra></extra>\", \"legendgroup\": \"4142\", \"line\": {\"color\": \"#FF6692\", \"dash\": \"solid\"}, \"mode\": \"lines\", \"name\": \"4142\", \"orientation\": \"v\", \"showlegend\": true, \"type\": \"scatter\", \"x\": [\"2020-26\"], \"xaxis\": \"x\", \"y\": [4142], \"yaxis\": \"y\"}, {\"hovertemplate\": \"cumulative_count=%{y}<br>year_week=%{x}<extra></extra>\", \"legendgroup\": \"4183\", \"line\": {\"color\": \"#B6E880\", \"dash\": \"solid\"}, \"mode\": \"lines\", \"name\": \"4183\", \"orientation\": \"v\", \"showlegend\": true, \"type\": \"scatter\", \"x\": [\"2020-27\"], \"xaxis\": \"x\", \"y\": [4183], \"yaxis\": \"y\"}, {\"hovertemplate\": \"cumulative_count=%{y}<br>year_week=%{x}<extra></extra>\", \"legendgroup\": \"4234\", \"line\": {\"color\": \"#FF97FF\", \"dash\": \"solid\"}, \"mode\": \"lines\", \"name\": \"4234\", \"orientation\": \"v\", \"showlegend\": true, \"type\": \"scatter\", \"x\": [\"2020-28\"], \"xaxis\": \"x\", \"y\": [4234], \"yaxis\": \"y\"}, {\"hovertemplate\": \"cumulative_count=%{y}<br>year_week=%{x}<extra></extra>\", \"legendgroup\": \"4333\", \"line\": {\"color\": \"#FECB52\", \"dash\": \"solid\"}, \"mode\": \"lines\", \"name\": \"4333\", \"orientation\": \"v\", \"showlegend\": true, \"type\": \"scatter\", \"x\": [\"2020-29\"], \"xaxis\": \"x\", \"y\": [4333], \"yaxis\": \"y\"}, {\"hovertemplate\": \"cumulative_count=%{y}<br>year_week=%{x}<extra></extra>\", \"legendgroup\": \"4448\", \"line\": {\"color\": \"#636efa\", \"dash\": \"solid\"}, \"mode\": \"lines\", \"name\": \"4448\", \"orientation\": \"v\", \"showlegend\": true, \"type\": \"scatter\", \"x\": [\"2020-30\"], \"xaxis\": \"x\", \"y\": [4448], \"yaxis\": \"y\"}, {\"hovertemplate\": \"cumulative_count=%{y}<br>year_week=%{x}<extra></extra>\", \"legendgroup\": \"4535\", \"line\": {\"color\": \"#EF553B\", \"dash\": \"solid\"}, \"mode\": \"lines\", \"name\": \"4535\", \"orientation\": \"v\", \"showlegend\": true, \"type\": \"scatter\", \"x\": [\"2020-31\"], \"xaxis\": \"x\", \"y\": [4535], \"yaxis\": \"y\"}, {\"hovertemplate\": \"cumulative_count=%{y}<br>year_week=%{x}<extra></extra>\", \"legendgroup\": \"4696\", \"line\": {\"color\": \"#00cc96\", \"dash\": \"solid\"}, \"mode\": \"lines\", \"name\": \"4696\", \"orientation\": \"v\", \"showlegend\": true, \"type\": \"scatter\", \"x\": [\"2020-32\"], \"xaxis\": \"x\", \"y\": [4696], \"yaxis\": \"y\"}, {\"hovertemplate\": \"cumulative_count=%{y}<br>year_week=%{x}<extra></extra>\", \"legendgroup\": \"4916\", \"line\": {\"color\": \"#ab63fa\", \"dash\": \"solid\"}, \"mode\": \"lines\", \"name\": \"4916\", \"orientation\": \"v\", \"showlegend\": true, \"type\": \"scatter\", \"x\": [\"2020-33\"], \"xaxis\": \"x\", \"y\": [4916], \"yaxis\": \"y\"}, {\"hovertemplate\": \"cumulative_count=%{y}<br>year_week=%{x}<extra></extra>\", \"legendgroup\": \"5155\", \"line\": {\"color\": \"#FFA15A\", \"dash\": \"solid\"}, \"mode\": \"lines\", \"name\": \"5155\", \"orientation\": \"v\", \"showlegend\": true, \"type\": \"scatter\", \"x\": [\"2020-34\"], \"xaxis\": \"x\", \"y\": [5155], \"yaxis\": \"y\"}, {\"hovertemplate\": \"cumulative_count=%{y}<br>year_week=%{x}<extra></extra>\", \"legendgroup\": \"5961\", \"line\": {\"color\": \"#19d3f3\", \"dash\": \"solid\"}, \"mode\": \"lines\", \"name\": \"5961\", \"orientation\": \"v\", \"showlegend\": true, \"type\": \"scatter\", \"x\": [\"2020-35\"], \"xaxis\": \"x\", \"y\": [5961], \"yaxis\": \"y\"}, {\"hovertemplate\": \"cumulative_count=%{y}<br>year_week=%{x}<extra></extra>\", \"legendgroup\": \"8387\", \"line\": {\"color\": \"#FF6692\", \"dash\": \"solid\"}, \"mode\": \"lines\", \"name\": \"8387\", \"orientation\": \"v\", \"showlegend\": true, \"type\": \"scatter\", \"x\": [\"2020-36\"], \"xaxis\": \"x\", \"y\": [8387], \"yaxis\": \"y\"}, {\"hovertemplate\": \"cumulative_count=%{y}<br>year_week=%{x}<extra></extra>\", \"legendgroup\": \"12309\", \"line\": {\"color\": \"#B6E880\", \"dash\": \"solid\"}, \"mode\": \"lines\", \"name\": \"12309\", \"orientation\": \"v\", \"showlegend\": true, \"type\": \"scatter\", \"x\": [\"2020-37\"], \"xaxis\": \"x\", \"y\": [12309], \"yaxis\": \"y\"}, {\"hovertemplate\": \"cumulative_count=%{y}<br>year_week=%{x}<extra></extra>\", \"legendgroup\": \"18866\", \"line\": {\"color\": \"#FF97FF\", \"dash\": \"solid\"}, \"mode\": \"lines\", \"name\": \"18866\", \"orientation\": \"v\", \"showlegend\": true, \"type\": \"scatter\", \"x\": [\"2020-38\"], \"xaxis\": \"x\", \"y\": [18866], \"yaxis\": \"y\"}, {\"hovertemplate\": \"cumulative_count=%{y}<br>year_week=%{x}<extra></extra>\", \"legendgroup\": \"24716\", \"line\": {\"color\": \"#FECB52\", \"dash\": \"solid\"}, \"mode\": \"lines\", \"name\": \"24716\", \"orientation\": \"v\", \"showlegend\": true, \"type\": \"scatter\", \"x\": [\"2020-39\"], \"xaxis\": \"x\", \"y\": [24716], \"yaxis\": \"y\"}, {\"hovertemplate\": \"cumulative_count=%{y}<br>year_week=%{x}<extra></extra>\", \"legendgroup\": \"31480\", \"line\": {\"color\": \"#636efa\", \"dash\": \"solid\"}, \"mode\": \"lines\", \"name\": \"31480\", \"orientation\": \"v\", \"showlegend\": true, \"type\": \"scatter\", \"x\": [\"2020-40\"], \"xaxis\": \"x\", \"y\": [31480], \"yaxis\": \"y\"}, {\"hovertemplate\": \"cumulative_count=%{y}<br>year_week=%{x}<extra></extra>\", \"legendgroup\": \"38577\", \"line\": {\"color\": \"#EF553B\", \"dash\": \"solid\"}, \"mode\": \"lines\", \"name\": \"38577\", \"orientation\": \"v\", \"showlegend\": true, \"type\": \"scatter\", \"x\": [\"2020-41\"], \"xaxis\": \"x\", \"y\": [38577], \"yaxis\": \"y\"}, {\"hovertemplate\": \"cumulative_count=%{y}<br>year_week=%{x}<extra></extra>\", \"legendgroup\": \"47768\", \"line\": {\"color\": \"#00cc96\", \"dash\": \"solid\"}, \"mode\": \"lines\", \"name\": \"47768\", \"orientation\": \"v\", \"showlegend\": true, \"type\": \"scatter\", \"x\": [\"2020-42\"], \"xaxis\": \"x\", \"y\": [47768], \"yaxis\": \"y\"}, {\"hovertemplate\": \"cumulative_count=%{y}<br>year_week=%{x}<extra></extra>\", \"legendgroup\": \"61563\", \"line\": {\"color\": \"#ab63fa\", \"dash\": \"solid\"}, \"mode\": \"lines\", \"name\": \"61563\", \"orientation\": \"v\", \"showlegend\": true, \"type\": \"scatter\", \"x\": [\"2020-43\"], \"xaxis\": \"x\", \"y\": [61563], \"yaxis\": \"y\"}, {\"hovertemplate\": \"cumulative_count=%{y}<br>year_week=%{x}<extra></extra>\", \"legendgroup\": \"82780\", \"line\": {\"color\": \"#FFA15A\", \"dash\": \"solid\"}, \"mode\": \"lines\", \"name\": \"82780\", \"orientation\": \"v\", \"showlegend\": true, \"type\": \"scatter\", \"x\": [\"2020-44\"], \"xaxis\": \"x\", \"y\": [82780], \"yaxis\": \"y\"}, {\"hovertemplate\": \"cumulative_count=%{y}<br>year_week=%{x}<extra></extra>\", \"legendgroup\": \"114778\", \"line\": {\"color\": \"#19d3f3\", \"dash\": \"solid\"}, \"mode\": \"lines\", \"name\": \"114778\", \"orientation\": \"v\", \"showlegend\": true, \"type\": \"scatter\", \"x\": [\"2020-45\"], \"xaxis\": \"x\", \"y\": [114778], \"yaxis\": \"y\"}, {\"hovertemplate\": \"cumulative_count=%{y}<br>year_week=%{x}<extra></extra>\", \"legendgroup\": \"147456\", \"line\": {\"color\": \"#FF6692\", \"dash\": \"solid\"}, \"mode\": \"lines\", \"name\": \"147456\", \"orientation\": \"v\", \"showlegend\": true, \"type\": \"scatter\", \"x\": [\"2020-46\"], \"xaxis\": \"x\", \"y\": [147456], \"yaxis\": \"y\"}, {\"hovertemplate\": \"cumulative_count=%{y}<br>year_week=%{x}<extra></extra>\", \"legendgroup\": \"177952\", \"line\": {\"color\": \"#B6E880\", \"dash\": \"solid\"}, \"mode\": \"lines\", \"name\": \"177952\", \"orientation\": \"v\", \"showlegend\": true, \"type\": \"scatter\", \"x\": [\"2020-47\"], \"xaxis\": \"x\", \"y\": [177952], \"yaxis\": \"y\"}, {\"hovertemplate\": \"cumulative_count=%{y}<br>year_week=%{x}<extra></extra>\", \"legendgroup\": \"217122\", \"line\": {\"color\": \"#FF97FF\", \"dash\": \"solid\"}, \"mode\": \"lines\", \"name\": \"217122\", \"orientation\": \"v\", \"showlegend\": true, \"type\": \"scatter\", \"x\": [\"2020-48\"], \"xaxis\": \"x\", \"y\": [217122], \"yaxis\": \"y\"}, {\"hovertemplate\": \"cumulative_count=%{y}<br>year_week=%{x}<extra></extra>\", \"legendgroup\": \"254148\", \"line\": {\"color\": \"#FECB52\", \"dash\": \"solid\"}, \"mode\": \"lines\", \"name\": \"254148\", \"orientation\": \"v\", \"showlegend\": true, \"type\": \"scatter\", \"x\": [\"2020-49\"], \"xaxis\": \"x\", \"y\": [254148], \"yaxis\": \"y\"}, {\"hovertemplate\": \"cumulative_count=%{y}<br>year_week=%{x}<extra></extra>\", \"legendgroup\": \"283870\", \"line\": {\"color\": \"#636efa\", \"dash\": \"solid\"}, \"mode\": \"lines\", \"name\": \"283870\", \"orientation\": \"v\", \"showlegend\": true, \"type\": \"scatter\", \"x\": [\"2020-50\"], \"xaxis\": \"x\", \"y\": [283870], \"yaxis\": \"y\"}, {\"hovertemplate\": \"cumulative_count=%{y}<br>year_week=%{x}<extra></extra>\", \"legendgroup\": \"305130\", \"line\": {\"color\": \"#EF553B\", \"dash\": \"solid\"}, \"mode\": \"lines\", \"name\": \"305130\", \"orientation\": \"v\", \"showlegend\": true, \"type\": \"scatter\", \"x\": [\"2020-51\"], \"xaxis\": \"x\", \"y\": [305130], \"yaxis\": \"y\"}, {\"hovertemplate\": \"cumulative_count=%{y}<br>year_week=%{x}<extra></extra>\", \"legendgroup\": \"316669\", \"line\": {\"color\": \"#00cc96\", \"dash\": \"solid\"}, \"mode\": \"lines\", \"name\": \"316669\", \"orientation\": \"v\", \"showlegend\": true, \"type\": \"scatter\", \"x\": [\"2020-52\"], \"xaxis\": \"x\", \"y\": [316669], \"yaxis\": \"y\"}, {\"hovertemplate\": \"cumulative_count=%{y}<br>year_week=%{x}<extra></extra>\", \"legendgroup\": \"328851\", \"line\": {\"color\": \"#ab63fa\", \"dash\": \"solid\"}, \"mode\": \"lines\", \"name\": \"328851\", \"orientation\": \"v\", \"showlegend\": true, \"type\": \"scatter\", \"x\": [\"2020-53\"], \"xaxis\": \"x\", \"y\": [328851], \"yaxis\": \"y\"}, {\"hovertemplate\": \"cumulative_count=%{y}<br>year_week=%{x}<extra></extra>\", \"legendgroup\": \"343656\", \"line\": {\"color\": \"#FFA15A\", \"dash\": \"solid\"}, \"mode\": \"lines\", \"name\": \"343656\", \"orientation\": \"v\", \"showlegend\": true, \"type\": \"scatter\", \"x\": [\"2021-01\"], \"xaxis\": \"x\", \"y\": [343656], \"yaxis\": \"y\"}, {\"hovertemplate\": \"cumulative_count=%{y}<br>year_week=%{x}<extra></extra>\", \"legendgroup\": \"352703\", \"line\": {\"color\": \"#19d3f3\", \"dash\": \"solid\"}, \"mode\": \"lines\", \"name\": \"352703\", \"orientation\": \"v\", \"showlegend\": true, \"type\": \"scatter\", \"x\": [\"2021-02\"], \"xaxis\": \"x\", \"y\": [352703], \"yaxis\": \"y\"}, {\"hovertemplate\": \"cumulative_count=%{y}<br>year_week=%{x}<extra></extra>\", \"legendgroup\": \"360418\", \"line\": {\"color\": \"#FF6692\", \"dash\": \"solid\"}, \"mode\": \"lines\", \"name\": \"360418\", \"orientation\": \"v\", \"showlegend\": true, \"type\": \"scatter\", \"x\": [\"2021-03\"], \"xaxis\": \"x\", \"y\": [360418], \"yaxis\": \"y\"}, {\"hovertemplate\": \"cumulative_count=%{y}<br>year_week=%{x}<extra></extra>\", \"legendgroup\": \"368710\", \"line\": {\"color\": \"#B6E880\", \"dash\": \"solid\"}, \"mode\": \"lines\", \"name\": \"368710\", \"orientation\": \"v\", \"showlegend\": true, \"type\": \"scatter\", \"x\": [\"2021-04\"], \"xaxis\": \"x\", \"y\": [368710], \"yaxis\": \"y\"}, {\"hovertemplate\": \"cumulative_count=%{y}<br>year_week=%{x}<extra></extra>\", \"legendgroup\": \"377655\", \"line\": {\"color\": \"#FF97FF\", \"dash\": \"solid\"}, \"mode\": \"lines\", \"name\": \"377655\", \"orientation\": \"v\", \"showlegend\": true, \"type\": \"scatter\", \"x\": [\"2021-05\"], \"xaxis\": \"x\", \"y\": [377655], \"yaxis\": \"y\"}, {\"hovertemplate\": \"cumulative_count=%{y}<br>year_week=%{x}<extra></extra>\", \"legendgroup\": \"388799\", \"line\": {\"color\": \"#FECB52\", \"dash\": \"solid\"}, \"mode\": \"lines\", \"name\": \"388799\", \"orientation\": \"v\", \"showlegend\": true, \"type\": \"scatter\", \"x\": [\"2021-06\"], \"xaxis\": \"x\", \"y\": [388799], \"yaxis\": \"y\"}, {\"hovertemplate\": \"cumulative_count=%{y}<br>year_week=%{x}<extra></extra>\", \"legendgroup\": \"405646\", \"line\": {\"color\": \"#636efa\", \"dash\": \"solid\"}, \"mode\": \"lines\", \"name\": \"405646\", \"orientation\": \"v\", \"showlegend\": true, \"type\": \"scatter\", \"x\": [\"2021-07\"], \"xaxis\": \"x\", \"y\": [405646], \"yaxis\": \"y\"}, {\"hovertemplate\": \"cumulative_count=%{y}<br>year_week=%{x}<extra></extra>\", \"legendgroup\": \"432925\", \"line\": {\"color\": \"#EF553B\", \"dash\": \"solid\"}, \"mode\": \"lines\", \"name\": \"432925\", \"orientation\": \"v\", \"showlegend\": true, \"type\": \"scatter\", \"x\": [\"2021-08\"], \"xaxis\": \"x\", \"y\": [432925], \"yaxis\": \"y\"}, {\"hovertemplate\": \"cumulative_count=%{y}<br>year_week=%{x}<extra></extra>\", \"legendgroup\": \"468713\", \"line\": {\"color\": \"#00cc96\", \"dash\": \"solid\"}, \"mode\": \"lines\", \"name\": \"468713\", \"orientation\": \"v\", \"showlegend\": true, \"type\": \"scatter\", \"x\": [\"2021-09\"], \"xaxis\": \"x\", \"y\": [468713], \"yaxis\": \"y\"}, {\"hovertemplate\": \"cumulative_count=%{y}<br>year_week=%{x}<extra></extra>\", \"legendgroup\": \"524196\", \"line\": {\"color\": \"#ab63fa\", \"dash\": \"solid\"}, \"mode\": \"lines\", \"name\": \"524196\", \"orientation\": \"v\", \"showlegend\": true, \"type\": \"scatter\", \"x\": [\"2021-10\"], \"xaxis\": \"x\", \"y\": [524196], \"yaxis\": \"y\"}, {\"hovertemplate\": \"cumulative_count=%{y}<br>year_week=%{x}<extra></extra>\", \"legendgroup\": \"580642\", \"line\": {\"color\": \"#FFA15A\", \"dash\": \"solid\"}, \"mode\": \"lines\", \"name\": \"580642\", \"orientation\": \"v\", \"showlegend\": true, \"type\": \"scatter\", \"x\": [\"2021-11\"], \"xaxis\": \"x\", \"y\": [580642], \"yaxis\": \"y\"}, {\"hovertemplate\": \"cumulative_count=%{y}<br>year_week=%{x}<extra></extra>\", \"legendgroup\": \"641124\", \"line\": {\"color\": \"#19d3f3\", \"dash\": \"solid\"}, \"mode\": \"lines\", \"name\": \"641124\", \"orientation\": \"v\", \"showlegend\": true, \"type\": \"scatter\", \"x\": [\"2021-12\"], \"xaxis\": \"x\", \"y\": [641124], \"yaxis\": \"y\"}, {\"hovertemplate\": \"cumulative_count=%{y}<br>year_week=%{x}<extra></extra>\", \"legendgroup\": \"689853\", \"line\": {\"color\": \"#FF6692\", \"dash\": \"solid\"}, \"mode\": \"lines\", \"name\": \"689853\", \"orientation\": \"v\", \"showlegend\": true, \"type\": \"scatter\", \"x\": [\"2021-13\"], \"xaxis\": \"x\", \"y\": [689853], \"yaxis\": \"y\"}, {\"hovertemplate\": \"cumulative_count=%{y}<br>year_week=%{x}<extra></extra>\", \"legendgroup\": \"725241\", \"line\": {\"color\": \"#B6E880\", \"dash\": \"solid\"}, \"mode\": \"lines\", \"name\": \"725241\", \"orientation\": \"v\", \"showlegend\": true, \"type\": \"scatter\", \"x\": [\"2021-14\"], \"xaxis\": \"x\", \"y\": [725241], \"yaxis\": \"y\"}, {\"hovertemplate\": \"cumulative_count=%{y}<br>year_week=%{x}<extra></extra>\", \"legendgroup\": \"0\", \"line\": {\"color\": \"#FF97FF\", \"dash\": \"solid\"}, \"mode\": \"lines\", \"name\": \"0\", \"orientation\": \"v\", \"showlegend\": true, \"type\": \"scatter\", \"x\": [\"2020-10\"], \"xaxis\": \"x\", \"y\": [0], \"yaxis\": \"y\"}, {\"hovertemplate\": \"cumulative_count=%{y}<br>year_week=%{x}<extra></extra>\", \"legendgroup\": \"1\", \"line\": {\"color\": \"#FECB52\", \"dash\": \"solid\"}, \"mode\": \"lines\", \"name\": \"1\", \"orientation\": \"v\", \"showlegend\": true, \"type\": \"scatter\", \"x\": [\"2020-11\"], \"xaxis\": \"x\", \"y\": [1], \"yaxis\": \"y\"}, {\"hovertemplate\": \"cumulative_count=%{y}<br>year_week=%{x}<extra></extra>\", \"legendgroup\": \"7\", \"line\": {\"color\": \"#636efa\", \"dash\": \"solid\"}, \"mode\": \"lines\", \"name\": \"7\", \"orientation\": \"v\", \"showlegend\": true, \"type\": \"scatter\", \"x\": [\"2020-12\"], \"xaxis\": \"x\", \"y\": [7], \"yaxis\": \"y\"}, {\"hovertemplate\": \"cumulative_count=%{y}<br>year_week=%{x}<extra></extra>\", \"legendgroup\": \"15\", \"line\": {\"color\": \"#EF553B\", \"dash\": \"solid\"}, \"mode\": \"lines\", \"name\": \"15\", \"orientation\": \"v\", \"showlegend\": true, \"type\": \"scatter\", \"x\": [\"2020-13\"], \"xaxis\": \"x\", \"y\": [15], \"yaxis\": \"y\"}, {\"hovertemplate\": \"cumulative_count=%{y}<br>year_week=%{x}<extra></extra>\", \"legendgroup\": \"38\", \"line\": {\"color\": \"#00cc96\", \"dash\": \"solid\"}, \"mode\": \"lines\", \"name\": \"38\", \"orientation\": \"v\", \"showlegend\": true, \"type\": \"scatter\", \"x\": [\"2020-14\"], \"xaxis\": \"x\", \"y\": [38], \"yaxis\": \"y\"}, {\"hovertemplate\": \"cumulative_count=%{y}<br>year_week=%{x}<extra></extra>\", \"legendgroup\": \"109\", \"line\": {\"color\": \"#ab63fa\", \"dash\": \"solid\"}, \"mode\": \"lines\", \"name\": \"109\", \"orientation\": \"v\", \"showlegend\": true, \"type\": \"scatter\", \"x\": [\"2020-15\"], \"xaxis\": \"x\", \"y\": [109], \"yaxis\": \"y\"}, {\"hovertemplate\": \"cumulative_count=%{y}<br>year_week=%{x}<extra></extra>\", \"legendgroup\": \"199\", \"line\": {\"color\": \"#FFA15A\", \"dash\": \"solid\"}, \"mode\": \"lines\", \"name\": \"199\", \"orientation\": \"v\", \"showlegend\": true, \"type\": \"scatter\", \"x\": [\"2020-16\"], \"xaxis\": \"x\", \"y\": [199], \"yaxis\": \"y\"}, {\"hovertemplate\": \"cumulative_count=%{y}<br>year_week=%{x}<extra></extra>\", \"legendgroup\": \"280\", \"line\": {\"color\": \"#19d3f3\", \"dash\": \"solid\"}, \"mode\": \"lines\", \"name\": \"280\", \"orientation\": \"v\", \"showlegend\": true, \"type\": \"scatter\", \"x\": [\"2020-17\"], \"xaxis\": \"x\", \"y\": [280], \"yaxis\": \"y\"}, {\"hovertemplate\": \"cumulative_count=%{y}<br>year_week=%{x}<extra></extra>\", \"legendgroup\": \"351\", \"line\": {\"color\": \"#FF6692\", \"dash\": \"solid\"}, \"mode\": \"lines\", \"name\": \"351\", \"orientation\": \"v\", \"showlegend\": true, \"type\": \"scatter\", \"x\": [\"2020-18\"], \"xaxis\": \"x\", \"y\": [351], \"yaxis\": \"y\"}, {\"hovertemplate\": \"cumulative_count=%{y}<br>year_week=%{x}<extra></extra>\", \"legendgroup\": \"421\", \"line\": {\"color\": \"#B6E880\", \"dash\": \"solid\"}, \"mode\": \"lines\", \"name\": \"421\", \"orientation\": \"v\", \"showlegend\": true, \"type\": \"scatter\", \"x\": [\"2020-19\"], \"xaxis\": \"x\", \"y\": [421], \"yaxis\": \"y\"}, {\"hovertemplate\": \"cumulative_count=%{y}<br>year_week=%{x}<extra></extra>\", \"legendgroup\": \"462\", \"line\": {\"color\": \"#FF97FF\", \"dash\": \"solid\"}, \"mode\": \"lines\", \"name\": \"462\", \"orientation\": \"v\", \"showlegend\": true, \"type\": \"scatter\", \"x\": [\"2020-20\"], \"xaxis\": \"x\", \"y\": [462], \"yaxis\": \"y\"}, {\"hovertemplate\": \"cumulative_count=%{y}<br>year_week=%{x}<extra></extra>\", \"legendgroup\": \"491\", \"line\": {\"color\": \"#FECB52\", \"dash\": \"solid\"}, \"mode\": \"lines\", \"name\": \"491\", \"orientation\": \"v\", \"showlegend\": true, \"type\": \"scatter\", \"x\": [\"2020-21\"], \"xaxis\": \"x\", \"y\": [491], \"yaxis\": \"y\"}, {\"hovertemplate\": \"cumulative_count=%{y}<br>year_week=%{x}<extra></extra>\", \"legendgroup\": \"526\", \"line\": {\"color\": \"#636efa\", \"dash\": \"solid\"}, \"mode\": \"lines\", \"name\": \"526\", \"orientation\": \"v\", \"showlegend\": true, \"type\": \"scatter\", \"x\": [\"2020-22\"], \"xaxis\": \"x\", \"y\": [526], \"yaxis\": \"y\"}, {\"hovertemplate\": \"cumulative_count=%{y}<br>year_week=%{x}<extra></extra>\", \"legendgroup\": \"542\", \"line\": {\"color\": \"#EF553B\", \"dash\": \"solid\"}, \"mode\": \"lines\", \"name\": \"542\", \"orientation\": \"v\", \"showlegend\": true, \"type\": \"scatter\", \"x\": [\"2020-23\"], \"xaxis\": \"x\", \"y\": [542], \"yaxis\": \"y\"}, {\"hovertemplate\": \"cumulative_count=%{y}<br>year_week=%{x}<extra></extra>\", \"legendgroup\": \"563\", \"line\": {\"color\": \"#00cc96\", \"dash\": \"solid\"}, \"mode\": \"lines\", \"name\": \"563\", \"orientation\": \"v\", \"showlegend\": true, \"type\": \"scatter\", \"x\": [\"2020-24\"], \"xaxis\": \"x\", \"y\": [563], \"yaxis\": \"y\"}, {\"hovertemplate\": \"cumulative_count=%{y}<br>year_week=%{x}<extra></extra>\", \"legendgroup\": \"572\", \"line\": {\"color\": \"#ab63fa\", \"dash\": \"solid\"}, \"mode\": \"lines\", \"name\": \"572\", \"orientation\": \"v\", \"showlegend\": true, \"type\": \"scatter\", \"x\": [\"2020-25\"], \"xaxis\": \"x\", \"y\": [572], \"yaxis\": \"y\"}, {\"hovertemplate\": \"cumulative_count=%{y}<br>year_week=%{x}<extra></extra>\", \"legendgroup\": \"581\", \"line\": {\"color\": \"#FFA15A\", \"dash\": \"solid\"}, \"mode\": \"lines\", \"name\": \"581\", \"orientation\": \"v\", \"showlegend\": true, \"type\": \"scatter\", \"x\": [\"2020-26\"], \"xaxis\": \"x\", \"y\": [581], \"yaxis\": \"y\"}, {\"hovertemplate\": \"cumulative_count=%{y}<br>year_week=%{x}<extra></extra>\", \"legendgroup\": \"589\", \"line\": {\"color\": \"#19d3f3\", \"dash\": \"solid\"}, \"mode\": \"lines\", \"name\": \"589\", \"orientation\": \"v\", \"showlegend\": true, \"type\": \"scatter\", \"x\": [\"2020-27\"], \"xaxis\": \"x\", \"y\": [589], \"yaxis\": \"y\"}, {\"hovertemplate\": \"cumulative_count=%{y}<br>year_week=%{x}<extra></extra>\", \"legendgroup\": \"595\", \"line\": {\"color\": \"#FF6692\", \"dash\": \"solid\"}, \"mode\": \"lines\", \"name\": \"595\", \"orientation\": \"v\", \"showlegend\": true, \"type\": \"scatter\", \"x\": [\"2020-28\"], \"xaxis\": \"x\", \"y\": [595], \"yaxis\": \"y\"}, {\"hovertemplate\": \"cumulative_count=%{y}<br>year_week=%{x}<extra></extra>\", \"legendgroup\": \"596\", \"line\": {\"color\": \"#B6E880\", \"dash\": \"solid\"}, \"mode\": \"lines\", \"name\": \"596\", \"orientation\": \"v\", \"showlegend\": true, \"type\": \"scatter\", \"x\": [\"2020-29\", \"2020-30\"], \"xaxis\": \"x\", \"y\": [596, 596], \"yaxis\": \"y\"}, {\"hovertemplate\": \"cumulative_count=%{y}<br>year_week=%{x}<extra></extra>\", \"legendgroup\": \"597\", \"line\": {\"color\": \"#FF97FF\", \"dash\": \"solid\"}, \"mode\": \"lines\", \"name\": \"597\", \"orientation\": \"v\", \"showlegend\": true, \"type\": \"scatter\", \"x\": [\"2020-31\"], \"xaxis\": \"x\", \"y\": [597], \"yaxis\": \"y\"}, {\"hovertemplate\": \"cumulative_count=%{y}<br>year_week=%{x}<extra></extra>\", \"legendgroup\": \"602\", \"line\": {\"color\": \"#FECB52\", \"dash\": \"solid\"}, \"mode\": \"lines\", \"name\": \"602\", \"orientation\": \"v\", \"showlegend\": true, \"type\": \"scatter\", \"x\": [\"2020-32\"], \"xaxis\": \"x\", \"y\": [602], \"yaxis\": \"y\"}, {\"hovertemplate\": \"cumulative_count=%{y}<br>year_week=%{x}<extra></extra>\", \"legendgroup\": \"608\", \"line\": {\"color\": \"#636efa\", \"dash\": \"solid\"}, \"mode\": \"lines\", \"name\": \"608\", \"orientation\": \"v\", \"showlegend\": true, \"type\": \"scatter\", \"x\": [\"2020-33\"], \"xaxis\": \"x\", \"y\": [608], \"yaxis\": \"y\"}, {\"hovertemplate\": \"cumulative_count=%{y}<br>year_week=%{x}<extra></extra>\", \"legendgroup\": \"613\", \"line\": {\"color\": \"#EF553B\", \"dash\": \"solid\"}, \"mode\": \"lines\", \"name\": \"613\", \"orientation\": \"v\", \"showlegend\": true, \"type\": \"scatter\", \"x\": [\"2020-34\"], \"xaxis\": \"x\", \"y\": [613], \"yaxis\": \"y\"}, {\"hovertemplate\": \"cumulative_count=%{y}<br>year_week=%{x}<extra></extra>\", \"legendgroup\": \"614\", \"line\": {\"color\": \"#00cc96\", \"dash\": \"solid\"}, \"mode\": \"lines\", \"name\": \"614\", \"orientation\": \"v\", \"showlegend\": true, \"type\": \"scatter\", \"x\": [\"2020-35\"], \"xaxis\": \"x\", \"y\": [614], \"yaxis\": \"y\"}, {\"hovertemplate\": \"cumulative_count=%{y}<br>year_week=%{x}<extra></extra>\", \"legendgroup\": \"624\", \"line\": {\"color\": \"#ab63fa\", \"dash\": \"solid\"}, \"mode\": \"lines\", \"name\": \"624\", \"orientation\": \"v\", \"showlegend\": true, \"type\": \"scatter\", \"x\": [\"2020-36\"], \"xaxis\": \"x\", \"y\": [624], \"yaxis\": \"y\"}, {\"hovertemplate\": \"cumulative_count=%{y}<br>year_week=%{x}<extra></extra>\", \"legendgroup\": \"637\", \"line\": {\"color\": \"#FFA15A\", \"dash\": \"solid\"}, \"mode\": \"lines\", \"name\": \"637\", \"orientation\": \"v\", \"showlegend\": true, \"type\": \"scatter\", \"x\": [\"2020-37\"], \"xaxis\": \"x\", \"y\": [637], \"yaxis\": \"y\"}, {\"hovertemplate\": \"cumulative_count=%{y}<br>year_week=%{x}<extra></extra>\", \"legendgroup\": \"686\", \"line\": {\"color\": \"#19d3f3\", \"dash\": \"solid\"}, \"mode\": \"lines\", \"name\": \"686\", \"orientation\": \"v\", \"showlegend\": true, \"type\": \"scatter\", \"x\": [\"2020-38\"], \"xaxis\": \"x\", \"y\": [686], \"yaxis\": \"y\"}, {\"hovertemplate\": \"cumulative_count=%{y}<br>year_week=%{x}<extra></extra>\", \"legendgroup\": \"749\", \"line\": {\"color\": \"#FF6692\", \"dash\": \"solid\"}, \"mode\": \"lines\", \"name\": \"749\", \"orientation\": \"v\", \"showlegend\": true, \"type\": \"scatter\", \"x\": [\"2020-39\"], \"xaxis\": \"x\", \"y\": [749], \"yaxis\": \"y\"}, {\"hovertemplate\": \"cumulative_count=%{y}<br>year_week=%{x}<extra></extra>\", \"legendgroup\": \"833\", \"line\": {\"color\": \"#B6E880\", \"dash\": \"solid\"}, \"mode\": \"lines\", \"name\": \"833\", \"orientation\": \"v\", \"showlegend\": true, \"type\": \"scatter\", \"x\": [\"2020-40\"], \"xaxis\": \"x\", \"y\": [833], \"yaxis\": \"y\"}, {\"hovertemplate\": \"cumulative_count=%{y}<br>year_week=%{x}<extra></extra>\", \"legendgroup\": \"968\", \"line\": {\"color\": \"#FF97FF\", \"dash\": \"solid\"}, \"mode\": \"lines\", \"name\": \"968\", \"orientation\": \"v\", \"showlegend\": true, \"type\": \"scatter\", \"x\": [\"2020-41\"], \"xaxis\": \"x\", \"y\": [968], \"yaxis\": \"y\"}, {\"hovertemplate\": \"cumulative_count=%{y}<br>year_week=%{x}<extra></extra>\", \"legendgroup\": \"1173\", \"line\": {\"color\": \"#FECB52\", \"dash\": \"solid\"}, \"mode\": \"lines\", \"name\": \"1173\", \"orientation\": \"v\", \"showlegend\": true, \"type\": \"scatter\", \"x\": [\"2020-42\"], \"xaxis\": \"x\", \"y\": [1173], \"yaxis\": \"y\"}, {\"hovertemplate\": \"cumulative_count=%{y}<br>year_week=%{x}<extra></extra>\", \"legendgroup\": \"1472\", \"line\": {\"color\": \"#636efa\", \"dash\": \"solid\"}, \"mode\": \"lines\", \"name\": \"1472\", \"orientation\": \"v\", \"showlegend\": true, \"type\": \"scatter\", \"x\": [\"2020-43\"], \"xaxis\": \"x\", \"y\": [1472], \"yaxis\": \"y\"}, {\"hovertemplate\": \"cumulative_count=%{y}<br>year_week=%{x}<extra></extra>\", \"legendgroup\": \"1889\", \"line\": {\"color\": \"#EF553B\", \"dash\": \"solid\"}, \"mode\": \"lines\", \"name\": \"1889\", \"orientation\": \"v\", \"showlegend\": true, \"type\": \"scatter\", \"x\": [\"2020-44\"], \"xaxis\": \"x\", \"y\": [1889], \"yaxis\": \"y\"}, {\"hovertemplate\": \"cumulative_count=%{y}<br>year_week=%{x}<extra></extra>\", \"legendgroup\": \"2493\", \"line\": {\"color\": \"#00cc96\", \"dash\": \"solid\"}, \"mode\": \"lines\", \"name\": \"2493\", \"orientation\": \"v\", \"showlegend\": true, \"type\": \"scatter\", \"x\": [\"2020-45\"], \"xaxis\": \"x\", \"y\": [2493], \"yaxis\": \"y\"}, {\"hovertemplate\": \"cumulative_count=%{y}<br>year_week=%{x}<extra></extra>\", \"legendgroup\": \"3190\", \"line\": {\"color\": \"#ab63fa\", \"dash\": \"solid\"}, \"mode\": \"lines\", \"name\": \"3190\", \"orientation\": \"v\", \"showlegend\": true, \"type\": \"scatter\", \"x\": [\"2020-46\"], \"xaxis\": \"x\", \"y\": [3190], \"yaxis\": \"y\"}, {\"hovertemplate\": \"cumulative_count=%{y}<br>year_week=%{x}<extra></extra>\", \"legendgroup\": \"3891\", \"line\": {\"color\": \"#FFA15A\", \"dash\": \"solid\"}, \"mode\": \"lines\", \"name\": \"3891\", \"orientation\": \"v\", \"showlegend\": true, \"type\": \"scatter\", \"x\": [\"2020-47\"], \"xaxis\": \"x\", \"y\": [3891], \"yaxis\": \"y\"}, {\"hovertemplate\": \"cumulative_count=%{y}<br>year_week=%{x}<extra></extra>\", \"legendgroup\": \"4823\", \"line\": {\"color\": \"#19d3f3\", \"dash\": \"solid\"}, \"mode\": \"lines\", \"name\": \"4823\", \"orientation\": \"v\", \"showlegend\": true, \"type\": \"scatter\", \"x\": [\"2020-48\"], \"xaxis\": \"x\", \"y\": [4823], \"yaxis\": \"y\"}, {\"hovertemplate\": \"cumulative_count=%{y}<br>year_week=%{x}<extra></extra>\", \"legendgroup\": \"5984\", \"line\": {\"color\": \"#FF6692\", \"dash\": \"solid\"}, \"mode\": \"lines\", \"name\": \"5984\", \"orientation\": \"v\", \"showlegend\": true, \"type\": \"scatter\", \"x\": [\"2020-49\"], \"xaxis\": \"x\", \"y\": [5984], \"yaxis\": \"y\"}, {\"hovertemplate\": \"cumulative_count=%{y}<br>year_week=%{x}<extra></extra>\", \"legendgroup\": \"7130\", \"line\": {\"color\": \"#B6E880\", \"dash\": \"solid\"}, \"mode\": \"lines\", \"name\": \"7130\", \"orientation\": \"v\", \"showlegend\": true, \"type\": \"scatter\", \"x\": [\"2020-50\"], \"xaxis\": \"x\", \"y\": [7130], \"yaxis\": \"y\"}, {\"hovertemplate\": \"cumulative_count=%{y}<br>year_week=%{x}<extra></extra>\", \"legendgroup\": \"8282\", \"line\": {\"color\": \"#FF97FF\", \"dash\": \"solid\"}, \"mode\": \"lines\", \"name\": \"8282\", \"orientation\": \"v\", \"showlegend\": true, \"type\": \"scatter\", \"x\": [\"2020-51\"], \"xaxis\": \"x\", \"y\": [8282], \"yaxis\": \"y\"}, {\"hovertemplate\": \"cumulative_count=%{y}<br>year_week=%{x}<extra></extra>\", \"legendgroup\": \"9161\", \"line\": {\"color\": \"#FECB52\", \"dash\": \"solid\"}, \"mode\": \"lines\", \"name\": \"9161\", \"orientation\": \"v\", \"showlegend\": true, \"type\": \"scatter\", \"x\": [\"2020-52\"], \"xaxis\": \"x\", \"y\": [9161], \"yaxis\": \"y\"}, {\"hovertemplate\": \"cumulative_count=%{y}<br>year_week=%{x}<extra></extra>\", \"legendgroup\": \"9977\", \"line\": {\"color\": \"#636efa\", \"dash\": \"solid\"}, \"mode\": \"lines\", \"name\": \"9977\", \"orientation\": \"v\", \"showlegend\": true, \"type\": \"scatter\", \"x\": [\"2020-53\"], \"xaxis\": \"x\", \"y\": [9977], \"yaxis\": \"y\"}, {\"hovertemplate\": \"cumulative_count=%{y}<br>year_week=%{x}<extra></extra>\", \"legendgroup\": \"10725\", \"line\": {\"color\": \"#EF553B\", \"dash\": \"solid\"}, \"mode\": \"lines\", \"name\": \"10725\", \"orientation\": \"v\", \"showlegend\": true, \"type\": \"scatter\", \"x\": [\"2021-01\"], \"xaxis\": \"x\", \"y\": [10725], \"yaxis\": \"y\"}, {\"hovertemplate\": \"cumulative_count=%{y}<br>year_week=%{x}<extra></extra>\", \"legendgroup\": \"11409\", \"line\": {\"color\": \"#00cc96\", \"dash\": \"solid\"}, \"mode\": \"lines\", \"name\": \"11409\", \"orientation\": \"v\", \"showlegend\": true, \"type\": \"scatter\", \"x\": [\"2021-02\"], \"xaxis\": \"x\", \"y\": [11409], \"yaxis\": \"y\"}, {\"hovertemplate\": \"cumulative_count=%{y}<br>year_week=%{x}<extra></extra>\", \"legendgroup\": \"12024\", \"line\": {\"color\": \"#ab63fa\", \"dash\": \"solid\"}, \"mode\": \"lines\", \"name\": \"12024\", \"orientation\": \"v\", \"showlegend\": true, \"type\": \"scatter\", \"x\": [\"2021-03\"], \"xaxis\": \"x\", \"y\": [12024], \"yaxis\": \"y\"}, {\"hovertemplate\": \"cumulative_count=%{y}<br>year_week=%{x}<extra></extra>\", \"legendgroup\": \"12578\", \"line\": {\"color\": \"#FFA15A\", \"dash\": \"solid\"}, \"mode\": \"lines\", \"name\": \"12578\", \"orientation\": \"v\", \"showlegend\": true, \"type\": \"scatter\", \"x\": [\"2021-04\"], \"xaxis\": \"x\", \"y\": [12578], \"yaxis\": \"y\"}, {\"hovertemplate\": \"cumulative_count=%{y}<br>year_week=%{x}<extra></extra>\", \"legendgroup\": \"13155\", \"line\": {\"color\": \"#19d3f3\", \"dash\": \"solid\"}, \"mode\": \"lines\", \"name\": \"13155\", \"orientation\": \"v\", \"showlegend\": true, \"type\": \"scatter\", \"x\": [\"2021-05\"], \"xaxis\": \"x\", \"y\": [13155], \"yaxis\": \"y\"}, {\"hovertemplate\": \"cumulative_count=%{y}<br>year_week=%{x}<extra></extra>\", \"legendgroup\": \"13752\", \"line\": {\"color\": \"#FF6692\", \"dash\": \"solid\"}, \"mode\": \"lines\", \"name\": \"13752\", \"orientation\": \"v\", \"showlegend\": true, \"type\": \"scatter\", \"x\": [\"2021-06\"], \"xaxis\": \"x\", \"y\": [13752], \"yaxis\": \"y\"}, {\"hovertemplate\": \"cumulative_count=%{y}<br>year_week=%{x}<extra></extra>\", \"legendgroup\": \"14347\", \"line\": {\"color\": \"#B6E880\", \"dash\": \"solid\"}, \"mode\": \"lines\", \"name\": \"14347\", \"orientation\": \"v\", \"showlegend\": true, \"type\": \"scatter\", \"x\": [\"2021-07\"], \"xaxis\": \"x\", \"y\": [14347], \"yaxis\": \"y\"}, {\"hovertemplate\": \"cumulative_count=%{y}<br>year_week=%{x}<extra></extra>\", \"legendgroup\": \"15058\", \"line\": {\"color\": \"#FF97FF\", \"dash\": \"solid\"}, \"mode\": \"lines\", \"name\": \"15058\", \"orientation\": \"v\", \"showlegend\": true, \"type\": \"scatter\", \"x\": [\"2021-08\"], \"xaxis\": \"x\", \"y\": [15058], \"yaxis\": \"y\"}, {\"hovertemplate\": \"cumulative_count=%{y}<br>year_week=%{x}<extra></extra>\", \"legendgroup\": \"15988\", \"line\": {\"color\": \"#FECB52\", \"dash\": \"solid\"}, \"mode\": \"lines\", \"name\": \"15988\", \"orientation\": \"v\", \"showlegend\": true, \"type\": \"scatter\", \"x\": [\"2021-09\"], \"xaxis\": \"x\", \"y\": [15988], \"yaxis\": \"y\"}, {\"hovertemplate\": \"cumulative_count=%{y}<br>year_week=%{x}<extra></extra>\", \"legendgroup\": \"17083\", \"line\": {\"color\": \"#636efa\", \"dash\": \"solid\"}, \"mode\": \"lines\", \"name\": \"17083\", \"orientation\": \"v\", \"showlegend\": true, \"type\": \"scatter\", \"x\": [\"2021-10\"], \"xaxis\": \"x\", \"y\": [17083], \"yaxis\": \"y\"}, {\"hovertemplate\": \"cumulative_count=%{y}<br>year_week=%{x}<extra></extra>\", \"legendgroup\": \"18451\", \"line\": {\"color\": \"#EF553B\", \"dash\": \"solid\"}, \"mode\": \"lines\", \"name\": \"18451\", \"orientation\": \"v\", \"showlegend\": true, \"type\": \"scatter\", \"x\": [\"2021-11\"], \"xaxis\": \"x\", \"y\": [18451], \"yaxis\": \"y\"}, {\"hovertemplate\": \"cumulative_count=%{y}<br>year_week=%{x}<extra></extra>\", \"legendgroup\": \"20161\", \"line\": {\"color\": \"#00cc96\", \"dash\": \"solid\"}, \"mode\": \"lines\", \"name\": \"20161\", \"orientation\": \"v\", \"showlegend\": true, \"type\": \"scatter\", \"x\": [\"2021-12\"], \"xaxis\": \"x\", \"y\": [20161], \"yaxis\": \"y\"}, {\"hovertemplate\": \"cumulative_count=%{y}<br>year_week=%{x}<extra></extra>\", \"legendgroup\": \"21928\", \"line\": {\"color\": \"#ab63fa\", \"dash\": \"solid\"}, \"mode\": \"lines\", \"name\": \"21928\", \"orientation\": \"v\", \"showlegend\": true, \"type\": \"scatter\", \"x\": [\"2021-13\"], \"xaxis\": \"x\", \"y\": [21928], \"yaxis\": \"y\"}, {\"hovertemplate\": \"cumulative_count=%{y}<br>year_week=%{x}<extra></extra>\", \"legendgroup\": \"23708\", \"line\": {\"color\": \"#FFA15A\", \"dash\": \"solid\"}, \"mode\": \"lines\", \"name\": \"23708\", \"orientation\": \"v\", \"showlegend\": true, \"type\": \"scatter\", \"x\": [\"2021-14\"], \"xaxis\": \"x\", \"y\": [23708], \"yaxis\": \"y\"}],                        {\"legend\": {\"title\": {\"text\": \"cumulative_count\"}, \"tracegroupgap\": 0}, \"margin\": {\"t\": 60}, \"template\": {\"data\": {\"bar\": [{\"error_x\": {\"color\": \"#2a3f5f\"}, \"error_y\": {\"color\": \"#2a3f5f\"}, \"marker\": {\"line\": {\"color\": \"#E5ECF6\", \"width\": 0.5}}, \"type\": \"bar\"}], \"barpolar\": [{\"marker\": {\"line\": {\"color\": \"#E5ECF6\", \"width\": 0.5}}, \"type\": \"barpolar\"}], \"carpet\": [{\"aaxis\": {\"endlinecolor\": \"#2a3f5f\", \"gridcolor\": \"white\", \"linecolor\": \"white\", \"minorgridcolor\": \"white\", \"startlinecolor\": \"#2a3f5f\"}, \"baxis\": {\"endlinecolor\": \"#2a3f5f\", \"gridcolor\": \"white\", \"linecolor\": \"white\", \"minorgridcolor\": \"white\", \"startlinecolor\": \"#2a3f5f\"}, \"type\": \"carpet\"}], \"choropleth\": [{\"colorbar\": {\"outlinewidth\": 0, \"ticks\": \"\"}, \"type\": \"choropleth\"}], \"contour\": [{\"colorbar\": {\"outlinewidth\": 0, \"ticks\": \"\"}, \"colorscale\": [[0.0, \"#0d0887\"], [0.1111111111111111, \"#46039f\"], [0.2222222222222222, \"#7201a8\"], [0.3333333333333333, \"#9c179e\"], [0.4444444444444444, \"#bd3786\"], [0.5555555555555556, \"#d8576b\"], [0.6666666666666666, \"#ed7953\"], [0.7777777777777778, \"#fb9f3a\"], [0.8888888888888888, \"#fdca26\"], [1.0, \"#f0f921\"]], \"type\": \"contour\"}], \"contourcarpet\": [{\"colorbar\": {\"outlinewidth\": 0, \"ticks\": \"\"}, \"type\": \"contourcarpet\"}], \"heatmap\": [{\"colorbar\": {\"outlinewidth\": 0, \"ticks\": \"\"}, \"colorscale\": [[0.0, \"#0d0887\"], [0.1111111111111111, \"#46039f\"], [0.2222222222222222, \"#7201a8\"], [0.3333333333333333, \"#9c179e\"], [0.4444444444444444, \"#bd3786\"], [0.5555555555555556, \"#d8576b\"], [0.6666666666666666, \"#ed7953\"], [0.7777777777777778, \"#fb9f3a\"], [0.8888888888888888, \"#fdca26\"], [1.0, \"#f0f921\"]], \"type\": \"heatmap\"}], \"heatmapgl\": [{\"colorbar\": {\"outlinewidth\": 0, \"ticks\": \"\"}, \"colorscale\": [[0.0, \"#0d0887\"], [0.1111111111111111, \"#46039f\"], [0.2222222222222222, \"#7201a8\"], [0.3333333333333333, \"#9c179e\"], [0.4444444444444444, \"#bd3786\"], [0.5555555555555556, \"#d8576b\"], [0.6666666666666666, \"#ed7953\"], [0.7777777777777778, \"#fb9f3a\"], [0.8888888888888888, \"#fdca26\"], [1.0, \"#f0f921\"]], \"type\": \"heatmapgl\"}], \"histogram\": [{\"marker\": {\"colorbar\": {\"outlinewidth\": 0, \"ticks\": \"\"}}, \"type\": \"histogram\"}], \"histogram2d\": [{\"colorbar\": {\"outlinewidth\": 0, \"ticks\": \"\"}, \"colorscale\": [[0.0, \"#0d0887\"], [0.1111111111111111, \"#46039f\"], [0.2222222222222222, \"#7201a8\"], [0.3333333333333333, \"#9c179e\"], [0.4444444444444444, \"#bd3786\"], [0.5555555555555556, \"#d8576b\"], [0.6666666666666666, \"#ed7953\"], [0.7777777777777778, \"#fb9f3a\"], [0.8888888888888888, \"#fdca26\"], [1.0, \"#f0f921\"]], \"type\": \"histogram2d\"}], \"histogram2dcontour\": [{\"colorbar\": {\"outlinewidth\": 0, \"ticks\": \"\"}, \"colorscale\": [[0.0, \"#0d0887\"], [0.1111111111111111, \"#46039f\"], [0.2222222222222222, \"#7201a8\"], [0.3333333333333333, \"#9c179e\"], [0.4444444444444444, \"#bd3786\"], [0.5555555555555556, \"#d8576b\"], [0.6666666666666666, \"#ed7953\"], [0.7777777777777778, \"#fb9f3a\"], [0.8888888888888888, \"#fdca26\"], [1.0, \"#f0f921\"]], \"type\": \"histogram2dcontour\"}], \"mesh3d\": [{\"colorbar\": {\"outlinewidth\": 0, \"ticks\": \"\"}, \"type\": \"mesh3d\"}], \"parcoords\": [{\"line\": {\"colorbar\": {\"outlinewidth\": 0, \"ticks\": \"\"}}, \"type\": \"parcoords\"}], \"pie\": [{\"automargin\": true, \"type\": \"pie\"}], \"scatter\": [{\"marker\": {\"colorbar\": {\"outlinewidth\": 0, \"ticks\": \"\"}}, \"type\": \"scatter\"}], \"scatter3d\": [{\"line\": {\"colorbar\": {\"outlinewidth\": 0, \"ticks\": \"\"}}, \"marker\": {\"colorbar\": {\"outlinewidth\": 0, \"ticks\": \"\"}}, \"type\": \"scatter3d\"}], \"scattercarpet\": [{\"marker\": {\"colorbar\": {\"outlinewidth\": 0, \"ticks\": \"\"}}, \"type\": \"scattercarpet\"}], \"scattergeo\": [{\"marker\": {\"colorbar\": {\"outlinewidth\": 0, \"ticks\": \"\"}}, \"type\": \"scattergeo\"}], \"scattergl\": [{\"marker\": {\"colorbar\": {\"outlinewidth\": 0, \"ticks\": \"\"}}, \"type\": \"scattergl\"}], \"scattermapbox\": [{\"marker\": {\"colorbar\": {\"outlinewidth\": 0, \"ticks\": \"\"}}, \"type\": \"scattermapbox\"}], \"scatterpolar\": [{\"marker\": {\"colorbar\": {\"outlinewidth\": 0, \"ticks\": \"\"}}, \"type\": \"scatterpolar\"}], \"scatterpolargl\": [{\"marker\": {\"colorbar\": {\"outlinewidth\": 0, \"ticks\": \"\"}}, \"type\": \"scatterpolargl\"}], \"scatterternary\": [{\"marker\": {\"colorbar\": {\"outlinewidth\": 0, \"ticks\": \"\"}}, \"type\": \"scatterternary\"}], \"surface\": [{\"colorbar\": {\"outlinewidth\": 0, \"ticks\": \"\"}, \"colorscale\": [[0.0, \"#0d0887\"], [0.1111111111111111, \"#46039f\"], [0.2222222222222222, \"#7201a8\"], [0.3333333333333333, \"#9c179e\"], [0.4444444444444444, \"#bd3786\"], [0.5555555555555556, \"#d8576b\"], [0.6666666666666666, \"#ed7953\"], [0.7777777777777778, \"#fb9f3a\"], [0.8888888888888888, \"#fdca26\"], [1.0, \"#f0f921\"]], \"type\": \"surface\"}], \"table\": [{\"cells\": {\"fill\": {\"color\": \"#EBF0F8\"}, \"line\": {\"color\": \"white\"}}, \"header\": {\"fill\": {\"color\": \"#C8D4E3\"}, \"line\": {\"color\": \"white\"}}, \"type\": \"table\"}]}, \"layout\": {\"annotationdefaults\": {\"arrowcolor\": \"#2a3f5f\", \"arrowhead\": 0, \"arrowwidth\": 1}, \"autotypenumbers\": \"strict\", \"coloraxis\": {\"colorbar\": {\"outlinewidth\": 0, \"ticks\": \"\"}}, \"colorscale\": {\"diverging\": [[0, \"#8e0152\"], [0.1, \"#c51b7d\"], [0.2, \"#de77ae\"], [0.3, \"#f1b6da\"], [0.4, \"#fde0ef\"], [0.5, \"#f7f7f7\"], [0.6, \"#e6f5d0\"], [0.7, \"#b8e186\"], [0.8, \"#7fbc41\"], [0.9, \"#4d9221\"], [1, \"#276419\"]], \"sequential\": [[0.0, \"#0d0887\"], [0.1111111111111111, \"#46039f\"], [0.2222222222222222, \"#7201a8\"], [0.3333333333333333, \"#9c179e\"], [0.4444444444444444, \"#bd3786\"], [0.5555555555555556, \"#d8576b\"], [0.6666666666666666, \"#ed7953\"], [0.7777777777777778, \"#fb9f3a\"], [0.8888888888888888, \"#fdca26\"], [1.0, \"#f0f921\"]], \"sequentialminus\": [[0.0, \"#0d0887\"], [0.1111111111111111, \"#46039f\"], [0.2222222222222222, \"#7201a8\"], [0.3333333333333333, \"#9c179e\"], [0.4444444444444444, \"#bd3786\"], [0.5555555555555556, \"#d8576b\"], [0.6666666666666666, \"#ed7953\"], [0.7777777777777778, \"#fb9f3a\"], [0.8888888888888888, \"#fdca26\"], [1.0, \"#f0f921\"]]}, \"colorway\": [\"#636efa\", \"#EF553B\", \"#00cc96\", \"#ab63fa\", \"#FFA15A\", \"#19d3f3\", \"#FF6692\", \"#B6E880\", \"#FF97FF\", \"#FECB52\"], \"font\": {\"color\": \"#2a3f5f\"}, \"geo\": {\"bgcolor\": \"white\", \"lakecolor\": \"white\", \"landcolor\": \"#E5ECF6\", \"showlakes\": true, \"showland\": true, \"subunitcolor\": \"white\"}, \"hoverlabel\": {\"align\": \"left\"}, \"hovermode\": \"closest\", \"mapbox\": {\"style\": \"light\"}, \"paper_bgcolor\": \"white\", \"plot_bgcolor\": \"#E5ECF6\", \"polar\": {\"angularaxis\": {\"gridcolor\": \"white\", \"linecolor\": \"white\", \"ticks\": \"\"}, \"bgcolor\": \"#E5ECF6\", \"radialaxis\": {\"gridcolor\": \"white\", \"linecolor\": \"white\", \"ticks\": \"\"}}, \"scene\": {\"xaxis\": {\"backgroundcolor\": \"#E5ECF6\", \"gridcolor\": \"white\", \"gridwidth\": 2, \"linecolor\": \"white\", \"showbackground\": true, \"ticks\": \"\", \"zerolinecolor\": \"white\"}, \"yaxis\": {\"backgroundcolor\": \"#E5ECF6\", \"gridcolor\": \"white\", \"gridwidth\": 2, \"linecolor\": \"white\", \"showbackground\": true, \"ticks\": \"\", \"zerolinecolor\": \"white\"}, \"zaxis\": {\"backgroundcolor\": \"#E5ECF6\", \"gridcolor\": \"white\", \"gridwidth\": 2, \"linecolor\": \"white\", \"showbackground\": true, \"ticks\": \"\", \"zerolinecolor\": \"white\"}}, \"shapedefaults\": {\"line\": {\"color\": \"#2a3f5f\"}}, \"ternary\": {\"aaxis\": {\"gridcolor\": \"white\", \"linecolor\": \"white\", \"ticks\": \"\"}, \"baxis\": {\"gridcolor\": \"white\", \"linecolor\": \"white\", \"ticks\": \"\"}, \"bgcolor\": \"#E5ECF6\", \"caxis\": {\"gridcolor\": \"white\", \"linecolor\": \"white\", \"ticks\": \"\"}}, \"title\": {\"x\": 0.05}, \"xaxis\": {\"automargin\": true, \"gridcolor\": \"white\", \"linecolor\": \"white\", \"ticks\": \"\", \"title\": {\"standoff\": 15}, \"zerolinecolor\": \"white\", \"zerolinewidth\": 2}, \"yaxis\": {\"automargin\": true, \"gridcolor\": \"white\", \"linecolor\": \"white\", \"ticks\": \"\", \"title\": {\"standoff\": 15}, \"zerolinecolor\": \"white\", \"zerolinewidth\": 2}}}, \"xaxis\": {\"anchor\": \"y\", \"domain\": [0.0, 1.0], \"title\": {\"text\": \"year_week\"}}, \"yaxis\": {\"anchor\": \"x\", \"categoryarray\": [23708, 21928, 20161, 18451, 17083, 15988, 15058, 14347, 13752, 13155, 12578, 12024, 11409, 10725, 9977, 9161, 8282, 7130, 5984, 4823, 3891, 3190, 2493, 1889, 1472, 1173, 968, 833, 749, 686, 637, 624, 614, 613, 608, 602, 597, 596, 595, 589, 581, 572, 563, 542, 526, 491, 462, 421, 351, 280, 199, 109, 38, 15, 7, 1, 0, 725241, 689853, 641124, 580642, 524196, 468713, 432925, 405646, 388799, 377655, 368710, 360418, 352703, 343656, 328851, 316669, 305130, 283870, 254148, 217122, 177952, 147456, 114778, 82780, 61563, 47768, 38577, 31480, 24716, 18866, 12309, 8387, 5961, 5155, 4916, 4696, 4535, 4448, 4333, 4234, 4183, 4142, 4102, 4076, 3970, 3876, 3756, 3535, 3284, 3035, 2583, 1984, 1458, 744, 447, 167, 39, 8], \"categoryorder\": \"array\", \"domain\": [0.0, 1.0], \"title\": {\"text\": \"cumulative_count\"}}},                        {\"responsive\": true}                    ).then(function(){\n",
       "                            \n",
       "var gd = document.getElementById('994d47cf-b043-4e36-9315-9c5ce7235a64');\n",
       "var x = new MutationObserver(function (mutations, observer) {{\n",
       "        var display = window.getComputedStyle(gd).display;\n",
       "        if (!display || display === 'none') {{\n",
       "            console.log([gd, 'removed!']);\n",
       "            Plotly.purge(gd);\n",
       "            observer.disconnect();\n",
       "        }}\n",
       "}});\n",
       "\n",
       "// Listen for the removal of the full notebook cells\n",
       "var notebookContainer = gd.closest('#notebook-container');\n",
       "if (notebookContainer) {{\n",
       "    x.observe(notebookContainer, {childList: true});\n",
       "}}\n",
       "\n",
       "// Listen for the clearing of the current output cell\n",
       "var outputEl = gd.closest('.output');\n",
       "if (outputEl) {{\n",
       "    x.observe(outputEl, {childList: true});\n",
       "}}\n",
       "\n",
       "                        })                };                });            </script>        </div>"
      ]
     },
     "metadata": {},
     "output_type": "display_data"
    }
   ],
   "source": [
    "px.line(data_frame = hun, x = 'year_week', y = 'cumulative_count', color = 'cumulative_count')"
   ]
  },
  {
   "cell_type": "code",
   "execution_count": 117,
   "metadata": {
    "ExecuteTime": {
     "end_time": "2021-04-15T20:51:17.452977Z",
     "start_time": "2021-04-15T20:51:17.436394Z"
    }
   },
   "outputs": [],
   "source": [
    "hun = data[data.country == 'Hungary']"
   ]
  },
  {
   "cell_type": "code",
   "execution_count": 118,
   "metadata": {
    "ExecuteTime": {
     "end_time": "2021-04-15T20:51:18.100386Z",
     "start_time": "2021-04-15T20:51:18.074270Z"
    }
   },
   "outputs": [
    {
     "data": {
      "text/html": [
       "<div>\n",
       "<style scoped>\n",
       "    .dataframe tbody tr th:only-of-type {\n",
       "        vertical-align: middle;\n",
       "    }\n",
       "\n",
       "    .dataframe tbody tr th {\n",
       "        vertical-align: top;\n",
       "    }\n",
       "\n",
       "    .dataframe thead th {\n",
       "        text-align: right;\n",
       "    }\n",
       "</style>\n",
       "<table border=\"1\" class=\"dataframe\">\n",
       "  <thead>\n",
       "    <tr style=\"text-align: right;\">\n",
       "      <th></th>\n",
       "      <th>country</th>\n",
       "      <th>country_code</th>\n",
       "      <th>continent</th>\n",
       "      <th>population</th>\n",
       "      <th>indicator</th>\n",
       "      <th>weekly_count</th>\n",
       "      <th>year_week</th>\n",
       "      <th>rate_14_day</th>\n",
       "      <th>cumulative_count</th>\n",
       "      <th>source</th>\n",
       "      <th>week</th>\n",
       "    </tr>\n",
       "  </thead>\n",
       "  <tbody>\n",
       "    <tr>\n",
       "      <th>10994</th>\n",
       "      <td>Hungary</td>\n",
       "      <td>HUN</td>\n",
       "      <td>Europe</td>\n",
       "      <td>9769526</td>\n",
       "      <td>cases</td>\n",
       "      <td>8</td>\n",
       "      <td>2020-10</td>\n",
       "      <td>NaN</td>\n",
       "      <td>8</td>\n",
       "      <td>Epidemic intelligence, national weekly data</td>\n",
       "      <td>10</td>\n",
       "    </tr>\n",
       "    <tr>\n",
       "      <th>10995</th>\n",
       "      <td>Hungary</td>\n",
       "      <td>HUN</td>\n",
       "      <td>Europe</td>\n",
       "      <td>9769526</td>\n",
       "      <td>cases</td>\n",
       "      <td>31</td>\n",
       "      <td>2020-11</td>\n",
       "      <td>0.399201</td>\n",
       "      <td>39</td>\n",
       "      <td>Epidemic intelligence, national weekly data</td>\n",
       "      <td>11</td>\n",
       "    </tr>\n",
       "    <tr>\n",
       "      <th>10996</th>\n",
       "      <td>Hungary</td>\n",
       "      <td>HUN</td>\n",
       "      <td>Europe</td>\n",
       "      <td>9769526</td>\n",
       "      <td>cases</td>\n",
       "      <td>128</td>\n",
       "      <td>2020-12</td>\n",
       "      <td>1.627510</td>\n",
       "      <td>167</td>\n",
       "      <td>Epidemic intelligence, national weekly data</td>\n",
       "      <td>12</td>\n",
       "    </tr>\n",
       "    <tr>\n",
       "      <th>10997</th>\n",
       "      <td>Hungary</td>\n",
       "      <td>HUN</td>\n",
       "      <td>Europe</td>\n",
       "      <td>9769526</td>\n",
       "      <td>cases</td>\n",
       "      <td>280</td>\n",
       "      <td>2020-13</td>\n",
       "      <td>4.176252</td>\n",
       "      <td>447</td>\n",
       "      <td>Epidemic intelligence, national weekly data</td>\n",
       "      <td>13</td>\n",
       "    </tr>\n",
       "    <tr>\n",
       "      <th>10998</th>\n",
       "      <td>Hungary</td>\n",
       "      <td>HUN</td>\n",
       "      <td>Europe</td>\n",
       "      <td>9769526</td>\n",
       "      <td>cases</td>\n",
       "      <td>297</td>\n",
       "      <td>2020-14</td>\n",
       "      <td>5.906121</td>\n",
       "      <td>744</td>\n",
       "      <td>Epidemic intelligence, national weekly data</td>\n",
       "      <td>14</td>\n",
       "    </tr>\n",
       "  </tbody>\n",
       "</table>\n",
       "</div>"
      ],
      "text/plain": [
       "       country country_code continent  population indicator  weekly_count  \\\n",
       "10994  Hungary          HUN    Europe     9769526     cases             8   \n",
       "10995  Hungary          HUN    Europe     9769526     cases            31   \n",
       "10996  Hungary          HUN    Europe     9769526     cases           128   \n",
       "10997  Hungary          HUN    Europe     9769526     cases           280   \n",
       "10998  Hungary          HUN    Europe     9769526     cases           297   \n",
       "\n",
       "      year_week  rate_14_day  cumulative_count  \\\n",
       "10994   2020-10          NaN                 8   \n",
       "10995   2020-11     0.399201                39   \n",
       "10996   2020-12     1.627510               167   \n",
       "10997   2020-13     4.176252               447   \n",
       "10998   2020-14     5.906121               744   \n",
       "\n",
       "                                            source  week  \n",
       "10994  Epidemic intelligence, national weekly data    10  \n",
       "10995  Epidemic intelligence, national weekly data    11  \n",
       "10996  Epidemic intelligence, national weekly data    12  \n",
       "10997  Epidemic intelligence, national weekly data    13  \n",
       "10998  Epidemic intelligence, national weekly data    14  "
      ]
     },
     "execution_count": 118,
     "metadata": {},
     "output_type": "execute_result"
    }
   ],
   "source": [
    "hun.head()"
   ]
  },
  {
   "cell_type": "code",
   "execution_count": 86,
   "metadata": {
    "ExecuteTime": {
     "end_time": "2021-04-15T20:38:17.755452Z",
     "start_time": "2021-04-15T20:38:17.741322Z"
    }
   },
   "outputs": [
    {
     "data": {
      "application/vnd.jupyter.widget-view+json": {
       "model_id": "7a0962f062b34e67ae42c645056f4a0a",
       "version_major": 2,
       "version_minor": 0
      },
      "text/plain": [
       "FigureWidget({\n",
       "    'data': [{'hovertemplate': 'indicator=cases<br>week=%{x}<br>cumulative_count=%{y}<extra></e…"
      ]
     },
     "metadata": {},
     "output_type": "display_data"
    }
   ],
   "source": [
    "fig "
   ]
  },
  {
   "cell_type": "code",
   "execution_count": 147,
   "metadata": {
    "ExecuteTime": {
     "end_time": "2021-04-15T21:09:34.400740Z",
     "start_time": "2021-04-15T21:09:34.341787Z"
    }
   },
   "outputs": [],
   "source": [
    "figure = go.FigureWidget(fig)"
   ]
  },
  {
   "cell_type": "code",
   "execution_count": 148,
   "metadata": {
    "ExecuteTime": {
     "end_time": "2021-04-15T21:09:35.695322Z",
     "start_time": "2021-04-15T21:09:35.674393Z"
    }
   },
   "outputs": [
    {
     "data": {
      "text/plain": [
       "(Scatter({\n",
       "     'hovertemplate': 'indicator=cases<br>week=%{x}<br>cumulative_count=%{y}<extra></extra>',\n",
       "     'legendgroup': 'cases',\n",
       "     'line': {'color': '#636efa', 'dash': 'solid'},\n",
       "     'mode': 'lines',\n",
       "     'name': 'cases',\n",
       "     'orientation': 'v',\n",
       "     'showlegend': True,\n",
       "     'uid': '43877305-bc5c-4e32-9f81-f1995eda68fb',\n",
       "     'x': array([10, 11, 12, 13, 14, 15, 16, 17, 18, 19, 20, 21, 22, 23, 24, 25, 26, 27,\n",
       "                 28, 29, 30, 31, 32, 33, 34, 35, 36, 37, 38, 39, 40, 41, 42, 43, 44, 45,\n",
       "                 46, 47, 48, 49, 50, 51, 52, 53, 55, 56, 57, 58, 59, 60, 61, 62, 63, 64,\n",
       "                 65, 66, 67, 68]),\n",
       "     'xaxis': 'x',\n",
       "     'y': array([     8,     39,    167,    447,    744,   1458,   1984,   2583,   3035,\n",
       "                   3284,   3535,   3756,   3876,   3970,   4076,   4102,   4142,   4183,\n",
       "                   4234,   4333,   4448,   4535,   4696,   4916,   5155,   5961,   8387,\n",
       "                  12309,  18866,  24716,  31480,  38577,  47768,  61563,  82780, 114778,\n",
       "                 147456, 177952, 217122, 254148, 283870, 305130, 316669, 328851, 343656,\n",
       "                 352703, 360418, 368710, 377655, 388799, 405646, 432925, 468713, 524196,\n",
       "                 580642, 641124, 689853, 725241]),\n",
       "     'yaxis': 'y'\n",
       " }),\n",
       " Scatter({\n",
       "     'hovertemplate': 'indicator=deaths<br>week=%{x}<br>cumulative_count=%{y}<extra></extra>',\n",
       "     'legendgroup': 'deaths',\n",
       "     'line': {'color': '#EF553B', 'dash': 'solid'},\n",
       "     'mode': 'lines',\n",
       "     'name': 'deaths',\n",
       "     'orientation': 'v',\n",
       "     'showlegend': True,\n",
       "     'uid': '62411a2f-4b16-471c-8099-e685cc0976f3',\n",
       "     'x': array([10, 11, 12, 13, 14, 15, 16, 17, 18, 19, 20, 21, 22, 23, 24, 25, 26, 27,\n",
       "                 28, 29, 30, 31, 32, 33, 34, 35, 36, 37, 38, 39, 40, 41, 42, 43, 44, 45,\n",
       "                 46, 47, 48, 49, 50, 51, 52, 53, 55, 56, 57, 58, 59, 60, 61, 62, 63, 64,\n",
       "                 65, 66, 67, 68]),\n",
       "     'xaxis': 'x',\n",
       "     'y': array([                   0, -4369436395329424031,  6307433380113135015,\n",
       "                  8245430364896845999,   -17886359132148634,  3346778825541122637,\n",
       "                 -2520871206206456217, -5957081827408322024, -2592416642735050753,\n",
       "                  5141684937267644549, -7984510607852776178, -5570957556439211765,\n",
       "                  7519465270416911694, -7051284833725217954, -6575728767095364525,\n",
       "                 -9007168177641077572,  7008136485522760997,  8946133470306471981,\n",
       "                  1176259172039479411, -3193177223289944620, -3193177223289944620,\n",
       "                 -7562613618619368651,  7483692552152614426,  -286181746114378144,\n",
       "                 -3686619649051946683, -8056056044381370714,  3589812223453043824,\n",
       "                  2127371305299186269, -9060827255037523474, -7634159055147963187,\n",
       "                 -5731934788628549471, -5310037799395141944,  2845960769840960885,\n",
       "                  6103307799721340352, -8170749829112422207,  9020814006090895773,\n",
       "                  7236418623558362806,  6421021733417685331, -7610002497504156041,\n",
       "                 -7671037204838761632,  2469241796639338394,  4839646499850445850,\n",
       "                  1027822336873458729, -4210670025993088679, -7475392685811627835,\n",
       "                 -7797347150190303247, -1776095516191546376, -5920384872741197854,\n",
       "                   118753120389707651, -7443860498229661000, -6267601326190181589,\n",
       "                  4562870051503555474,  -729281388759437836, -7555419183704883237,\n",
       "                 -8199328112462234061, -9004214273408922591,  -612557936199058264,\n",
       "                  6316657482856948508]),\n",
       "     'yaxis': 'y'\n",
       " }))"
      ]
     },
     "execution_count": 148,
     "metadata": {},
     "output_type": "execute_result"
    }
   ],
   "source": [
    "figure.data"
   ]
  },
  {
   "cell_type": "code",
   "execution_count": 149,
   "metadata": {
    "ExecuteTime": {
     "end_time": "2021-04-15T21:09:58.775405Z",
     "start_time": "2021-04-15T21:09:38.657749Z"
    }
   },
   "outputs": [],
   "source": [
    "import time\n",
    "for i in range(20):\n",
    "    time.sleep(1)\n",
    "    figure.data[1][\"y\"] = figure.data[1][\"y\"] * 2"
   ]
  },
  {
   "cell_type": "code",
   "execution_count": null,
   "metadata": {},
   "outputs": [],
   "source": []
  },
  {
   "cell_type": "code",
   "execution_count": null,
   "metadata": {
    "ExecuteTime": {
     "end_time": "2021-04-15T20:36:35.839115Z",
     "start_time": "2021-04-15T20:36:15.725283Z"
    },
    "code_folding": []
   },
   "outputs": [],
   "source": []
  },
  {
   "cell_type": "code",
   "execution_count": null,
   "metadata": {},
   "outputs": [],
   "source": []
  }
 ],
 "metadata": {
  "kernelspec": {
   "display_name": "Python 3",
   "language": "python",
   "name": "python3"
  },
  "language_info": {
   "codemirror_mode": {
    "name": "ipython",
    "version": 3
   },
   "file_extension": ".py",
   "mimetype": "text/x-python",
   "name": "python",
   "nbconvert_exporter": "python",
   "pygments_lexer": "ipython3",
   "version": "3.8.5"
  },
  "toc": {
   "base_numbering": 1,
   "nav_menu": {},
   "number_sections": false,
   "sideBar": true,
   "skip_h1_title": false,
   "title_cell": "Table of Contents",
   "title_sidebar": "Contents",
   "toc_cell": false,
   "toc_position": {},
   "toc_section_display": true,
   "toc_window_display": false
  }
 },
 "nbformat": 4,
 "nbformat_minor": 4
}
